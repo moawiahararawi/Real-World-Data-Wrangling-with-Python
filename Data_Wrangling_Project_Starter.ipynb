{
 "cells": [
  {
   "cell_type": "markdown",
   "metadata": {
    "id": "GNIwe5N7s0e_"
   },
   "source": [
    "# Real-world Data Wrangling"
   ]
  },
  {
   "cell_type": "code",
   "execution_count": 1,
   "metadata": {
    "scrolled": true
   },
   "outputs": [
    {
     "name": "stdout",
     "output_type": "stream",
     "text": [
      "Requirement already satisfied: kaggle==1.6.12 in c:\\users\\user\\anaconda3\\lib\\site-packages (1.6.12)\n",
      "Requirement already satisfied: six>=1.10 in c:\\users\\user\\anaconda3\\lib\\site-packages (from kaggle==1.6.12) (1.16.0)\n",
      "Requirement already satisfied: certifi>=2023.7.22 in c:\\users\\user\\anaconda3\\lib\\site-packages (from kaggle==1.6.12) (2023.7.22)\n",
      "Requirement already satisfied: python-dateutil in c:\\users\\user\\anaconda3\\lib\\site-packages (from kaggle==1.6.12) (2.8.2)\n",
      "Requirement already satisfied: requests in c:\\users\\user\\anaconda3\\lib\\site-packages (from kaggle==1.6.12) (2.31.0)\n",
      "Requirement already satisfied: tqdm in c:\\users\\user\\anaconda3\\lib\\site-packages (from kaggle==1.6.12) (4.65.0)\n",
      "Requirement already satisfied: python-slugify in c:\\users\\user\\anaconda3\\lib\\site-packages (from kaggle==1.6.12) (5.0.2)\n",
      "Requirement already satisfied: urllib3 in c:\\users\\user\\anaconda3\\lib\\site-packages (from kaggle==1.6.12) (1.26.16)\n",
      "Requirement already satisfied: bleach in c:\\users\\user\\anaconda3\\lib\\site-packages (from kaggle==1.6.12) (4.1.0)\n",
      "Requirement already satisfied: packaging in c:\\users\\user\\anaconda3\\lib\\site-packages (from bleach->kaggle==1.6.12) (23.1)\n",
      "Requirement already satisfied: webencodings in c:\\users\\user\\anaconda3\\lib\\site-packages (from bleach->kaggle==1.6.12) (0.5.1)\n",
      "Requirement already satisfied: text-unidecode>=1.3 in c:\\users\\user\\anaconda3\\lib\\site-packages (from python-slugify->kaggle==1.6.12) (1.3)\n",
      "Requirement already satisfied: charset-normalizer<4,>=2 in c:\\users\\user\\anaconda3\\lib\\site-packages (from requests->kaggle==1.6.12) (2.0.4)\n",
      "Requirement already satisfied: idna<4,>=2.5 in c:\\users\\user\\anaconda3\\lib\\site-packages (from requests->kaggle==1.6.12) (3.4)\n",
      "Requirement already satisfied: colorama in c:\\users\\user\\anaconda3\\lib\\site-packages (from tqdm->kaggle==1.6.12) (0.4.6)\n"
     ]
    }
   ],
   "source": [
    "!python -m pip install kaggle==1.6.12"
   ]
  },
  {
   "cell_type": "code",
   "execution_count": 2,
   "metadata": {
    "scrolled": true
   },
   "outputs": [
    {
     "name": "stdout",
     "output_type": "stream",
     "text": [
      "Collecting ucimlrepo\n",
      "  Obtaining dependency information for ucimlrepo from https://files.pythonhosted.org/packages/3b/07/1252560194df2b4fad1cb3c46081b948331c63eb1bb0b97620d508d12a53/ucimlrepo-0.0.7-py3-none-any.whl.metadata\n",
      "  Using cached ucimlrepo-0.0.7-py3-none-any.whl.metadata (5.5 kB)\n",
      "Collecting pandas>=1.0.0 (from ucimlrepo)\n",
      "  Obtaining dependency information for pandas>=1.0.0 from https://files.pythonhosted.org/packages/ab/63/966db1321a0ad55df1d1fe51505d2cdae191b84c907974873817b0a6e849/pandas-2.2.2-cp311-cp311-win_amd64.whl.metadata\n",
      "  Using cached pandas-2.2.2-cp311-cp311-win_amd64.whl.metadata (19 kB)\n",
      "Collecting certifi>=2020.12.5 (from ucimlrepo)\n",
      "  Obtaining dependency information for certifi>=2020.12.5 from https://files.pythonhosted.org/packages/5b/11/1e78951465b4a225519b8c3ad29769c49e0d8d157a070f681d5b6d64737f/certifi-2024.6.2-py3-none-any.whl.metadata\n",
      "  Using cached certifi-2024.6.2-py3-none-any.whl.metadata (2.2 kB)\n",
      "Collecting numpy>=1.23.2 (from pandas>=1.0.0->ucimlrepo)\n",
      "  Obtaining dependency information for numpy>=1.23.2 from https://files.pythonhosted.org/packages/9b/0f/022ca4783b6e6239a53b988a4d315d67f9ae7126227fb2255054a558bd72/numpy-2.0.0-cp311-cp311-win_amd64.whl.metadata\n",
      "  Using cached numpy-2.0.0-cp311-cp311-win_amd64.whl.metadata (60 kB)\n",
      "Collecting python-dateutil>=2.8.2 (from pandas>=1.0.0->ucimlrepo)\n",
      "  Obtaining dependency information for python-dateutil>=2.8.2 from https://files.pythonhosted.org/packages/ec/57/56b9bcc3c9c6a792fcbaf139543cee77261f3651ca9da0c93f5c1221264b/python_dateutil-2.9.0.post0-py2.py3-none-any.whl.metadata\n",
      "  Using cached python_dateutil-2.9.0.post0-py2.py3-none-any.whl.metadata (8.4 kB)\n",
      "Collecting pytz>=2020.1 (from pandas>=1.0.0->ucimlrepo)\n",
      "  Obtaining dependency information for pytz>=2020.1 from https://files.pythonhosted.org/packages/9c/3d/a121f284241f08268b21359bd425f7d4825cffc5ac5cd0e1b3d82ffd2b10/pytz-2024.1-py2.py3-none-any.whl.metadata\n",
      "  Using cached pytz-2024.1-py2.py3-none-any.whl.metadata (22 kB)\n",
      "Collecting tzdata>=2022.7 (from pandas>=1.0.0->ucimlrepo)\n",
      "  Obtaining dependency information for tzdata>=2022.7 from https://files.pythonhosted.org/packages/65/58/f9c9e6be752e9fcb8b6a0ee9fb87e6e7a1f6bcab2cdc73f02bb7ba91ada0/tzdata-2024.1-py2.py3-none-any.whl.metadata\n",
      "  Using cached tzdata-2024.1-py2.py3-none-any.whl.metadata (1.4 kB)\n",
      "Collecting six>=1.5 (from python-dateutil>=2.8.2->pandas>=1.0.0->ucimlrepo)\n",
      "  Obtaining dependency information for six>=1.5 from https://files.pythonhosted.org/packages/d9/5a/e7c31adbe875f2abbb91bd84cf2dc52d792b5a01506781dbcf25c91daf11/six-1.16.0-py2.py3-none-any.whl.metadata\n",
      "  Using cached six-1.16.0-py2.py3-none-any.whl.metadata (1.8 kB)\n",
      "Using cached ucimlrepo-0.0.7-py3-none-any.whl (8.0 kB)\n",
      "Using cached certifi-2024.6.2-py3-none-any.whl (164 kB)\n",
      "Using cached pandas-2.2.2-cp311-cp311-win_amd64.whl (11.6 MB)\n",
      "Using cached numpy-2.0.0-cp311-cp311-win_amd64.whl (16.5 MB)\n",
      "Using cached python_dateutil-2.9.0.post0-py2.py3-none-any.whl (229 kB)\n",
      "Using cached pytz-2024.1-py2.py3-none-any.whl (505 kB)\n",
      "Using cached tzdata-2024.1-py2.py3-none-any.whl (345 kB)\n",
      "Using cached six-1.16.0-py2.py3-none-any.whl (11 kB)\n",
      "Installing collected packages: pytz, tzdata, six, numpy, certifi, python-dateutil, pandas, ucimlrepo\n",
      "Successfully installed certifi-2024.6.2 numpy-2.0.0 pandas-2.2.2 python-dateutil-2.9.0.post0 pytz-2024.1 six-1.16.0 tzdata-2024.1 ucimlrepo-0.0.7\n"
     ]
    },
    {
     "name": "stderr",
     "output_type": "stream",
     "text": [
      "ERROR: pip's dependency resolver does not currently take into account all the packages that are installed. This behaviour is the source of the following dependency conflicts.\n",
      "conda-repo-cli 1.0.75 requires requests_mock, which is not installed.\n",
      "gensim 4.3.0 requires FuzzyTM>=0.4.0, which is not installed.\n",
      "tables 3.8.0 requires blosc2~=2.0.0, which is not installed.\n",
      "tables 3.8.0 requires cython>=0.29.21, which is not installed.\n",
      "conda-repo-cli 1.0.75 requires clyent==1.2.1, but you have clyent 1.2.2 which is incompatible.\n",
      "conda-repo-cli 1.0.75 requires python-dateutil==2.8.2, but you have python-dateutil 2.9.0.post0 which is incompatible.\n",
      "conda-repo-cli 1.0.75 requires PyYAML==6.0.1, but you have pyyaml 6.0 which is incompatible.\n",
      "numba 0.57.1 requires numpy<1.25,>=1.21, but you have numpy 2.0.0 which is incompatible.\n",
      "scipy 1.11.1 requires numpy<1.28.0,>=1.21.6, but you have numpy 2.0.0 which is incompatible.\n",
      "WARNING: Target directory C:\\workspace\\certifi already exists. Specify --upgrade to force replacement.\n",
      "WARNING: Target directory C:\\workspace\\certifi-2024.6.2.dist-info already exists. Specify --upgrade to force replacement.\n",
      "WARNING: Target directory C:\\workspace\\dateutil already exists. Specify --upgrade to force replacement.\n",
      "WARNING: Target directory C:\\workspace\\numpy already exists. Specify --upgrade to force replacement.\n",
      "WARNING: Target directory C:\\workspace\\numpy-2.0.0-cp311-cp311-win_amd64.whl already exists. Specify --upgrade to force replacement.\n",
      "WARNING: Target directory C:\\workspace\\numpy-2.0.0.dist-info already exists. Specify --upgrade to force replacement.\n",
      "WARNING: Target directory C:\\workspace\\numpy.libs already exists. Specify --upgrade to force replacement.\n",
      "WARNING: Target directory C:\\workspace\\pandas already exists. Specify --upgrade to force replacement.\n",
      "WARNING: Target directory C:\\workspace\\pandas-2.2.2.dist-info already exists. Specify --upgrade to force replacement.\n",
      "WARNING: Target directory C:\\workspace\\pandas.libs already exists. Specify --upgrade to force replacement.\n",
      "WARNING: Target directory C:\\workspace\\python_dateutil-2.9.0.post0.dist-info already exists. Specify --upgrade to force replacement.\n",
      "WARNING: Target directory C:\\workspace\\pytz already exists. Specify --upgrade to force replacement.\n",
      "WARNING: Target directory C:\\workspace\\pytz-2024.1.dist-info already exists. Specify --upgrade to force replacement.\n",
      "WARNING: Target directory C:\\workspace\\six-1.16.0.dist-info already exists. Specify --upgrade to force replacement.\n",
      "WARNING: Target directory C:\\workspace\\six.py already exists. Specify --upgrade to force replacement.\n",
      "WARNING: Target directory C:\\workspace\\tzdata already exists. Specify --upgrade to force replacement.\n",
      "WARNING: Target directory C:\\workspace\\tzdata-2024.1.dist-info already exists. Specify --upgrade to force replacement.\n",
      "WARNING: Target directory C:\\workspace\\ucimlrepo already exists. Specify --upgrade to force replacement.\n",
      "WARNING: Target directory C:\\workspace\\ucimlrepo-0.0.7.dist-info already exists. Specify --upgrade to force replacement.\n",
      "WARNING: Target directory C:\\workspace\\__pycache__ already exists. Specify --upgrade to force replacement.\n",
      "WARNING: Target directory C:\\workspace\\bin already exists. Specify --upgrade to force replacement.\n"
     ]
    }
   ],
   "source": [
    "!pip install --target=/workspace ucimlrepo"
   ]
  },
  {
   "cell_type": "code",
   "execution_count": 3,
   "metadata": {
    "scrolled": true
   },
   "outputs": [
    {
     "name": "stdout",
     "output_type": "stream",
     "text": [
      "Requirement already satisfied: opendatasets in c:\\users\\user\\anaconda3\\lib\\site-packages (0.1.22)\n",
      "Requirement already satisfied: tqdm in c:\\users\\user\\anaconda3\\lib\\site-packages (from opendatasets) (4.65.0)\n",
      "Requirement already satisfied: kaggle in c:\\users\\user\\anaconda3\\lib\\site-packages (from opendatasets) (1.6.12)\n",
      "Requirement already satisfied: click in c:\\users\\user\\anaconda3\\lib\\site-packages (from opendatasets) (8.0.4)\n",
      "Requirement already satisfied: colorama in c:\\users\\user\\anaconda3\\lib\\site-packages (from click->opendatasets) (0.4.6)\n",
      "Requirement already satisfied: six>=1.10 in c:\\users\\user\\anaconda3\\lib\\site-packages (from kaggle->opendatasets) (1.16.0)\n",
      "Requirement already satisfied: certifi>=2023.7.22 in c:\\users\\user\\anaconda3\\lib\\site-packages (from kaggle->opendatasets) (2023.7.22)\n",
      "Requirement already satisfied: python-dateutil in c:\\users\\user\\anaconda3\\lib\\site-packages (from kaggle->opendatasets) (2.8.2)\n",
      "Requirement already satisfied: requests in c:\\users\\user\\anaconda3\\lib\\site-packages (from kaggle->opendatasets) (2.31.0)\n",
      "Requirement already satisfied: python-slugify in c:\\users\\user\\anaconda3\\lib\\site-packages (from kaggle->opendatasets) (5.0.2)\n",
      "Requirement already satisfied: urllib3 in c:\\users\\user\\anaconda3\\lib\\site-packages (from kaggle->opendatasets) (1.26.16)\n",
      "Requirement already satisfied: bleach in c:\\users\\user\\anaconda3\\lib\\site-packages (from kaggle->opendatasets) (4.1.0)\n",
      "Requirement already satisfied: packaging in c:\\users\\user\\anaconda3\\lib\\site-packages (from bleach->kaggle->opendatasets) (23.1)\n",
      "Requirement already satisfied: webencodings in c:\\users\\user\\anaconda3\\lib\\site-packages (from bleach->kaggle->opendatasets) (0.5.1)\n",
      "Requirement already satisfied: text-unidecode>=1.3 in c:\\users\\user\\anaconda3\\lib\\site-packages (from python-slugify->kaggle->opendatasets) (1.3)\n",
      "Requirement already satisfied: charset-normalizer<4,>=2 in c:\\users\\user\\anaconda3\\lib\\site-packages (from requests->kaggle->opendatasets) (2.0.4)\n",
      "Requirement already satisfied: idna<4,>=2.5 in c:\\users\\user\\anaconda3\\lib\\site-packages (from requests->kaggle->opendatasets) (3.4)\n",
      "Note: you may need to restart the kernel to use updated packages.\n"
     ]
    }
   ],
   "source": [
    "pip install opendatasets"
   ]
  },
  {
   "cell_type": "code",
   "execution_count": 4,
   "metadata": {
    "scrolled": true
   },
   "outputs": [
    {
     "name": "stdout",
     "output_type": "stream",
     "text": [
      "Requirement already satisfied: wordcloud in c:\\users\\user\\anaconda3\\lib\\site-packages (1.9.3)\n",
      "Requirement already satisfied: numpy>=1.6.1 in c:\\users\\user\\anaconda3\\lib\\site-packages (from wordcloud) (1.24.3)\n",
      "Requirement already satisfied: pillow in c:\\users\\user\\anaconda3\\lib\\site-packages (from wordcloud) (9.4.0)\n",
      "Requirement already satisfied: matplotlib in c:\\users\\user\\anaconda3\\lib\\site-packages (from wordcloud) (3.7.2)\n",
      "Requirement already satisfied: contourpy>=1.0.1 in c:\\users\\user\\anaconda3\\lib\\site-packages (from matplotlib->wordcloud) (1.0.5)\n",
      "Requirement already satisfied: cycler>=0.10 in c:\\users\\user\\anaconda3\\lib\\site-packages (from matplotlib->wordcloud) (0.11.0)\n",
      "Requirement already satisfied: fonttools>=4.22.0 in c:\\users\\user\\anaconda3\\lib\\site-packages (from matplotlib->wordcloud) (4.25.0)\n",
      "Requirement already satisfied: kiwisolver>=1.0.1 in c:\\users\\user\\anaconda3\\lib\\site-packages (from matplotlib->wordcloud) (1.4.4)\n",
      "Requirement already satisfied: packaging>=20.0 in c:\\users\\user\\anaconda3\\lib\\site-packages (from matplotlib->wordcloud) (23.1)\n",
      "Requirement already satisfied: pyparsing<3.1,>=2.3.1 in c:\\users\\user\\anaconda3\\lib\\site-packages (from matplotlib->wordcloud) (3.0.9)\n",
      "Requirement already satisfied: python-dateutil>=2.7 in c:\\users\\user\\anaconda3\\lib\\site-packages (from matplotlib->wordcloud) (2.8.2)\n",
      "Requirement already satisfied: six>=1.5 in c:\\users\\user\\anaconda3\\lib\\site-packages (from python-dateutil>=2.7->matplotlib->wordcloud) (1.16.0)\n",
      "Note: you may need to restart the kernel to use updated packages.\n"
     ]
    }
   ],
   "source": [
    "pip install wordcloud"
   ]
  },
  {
   "cell_type": "markdown",
   "metadata": {},
   "source": [
    "**Note:** Restart the kernel to use updated package(s)."
   ]
  },
  {
   "cell_type": "markdown",
   "metadata": {
    "id": "lDYDkH-Zs7Nn"
   },
   "source": [
    "## 1. Gather data\n",
    "\n",
    "In this section, you will extract data using two different data gathering methods and combine the data. Use at least two different types of data-gathering methods."
   ]
  },
  {
   "cell_type": "markdown",
   "metadata": {
    "id": "LbN7z7rcuqpO"
   },
   "source": [
    "### **1.1.** Problem Statement\n",
    "\n",
    "For this project, I aim to analyze the relationship between book characteristics and user ratings to identify what factors most influence high ratings. I will be wrangling two datasets: the \"Books_rating\" dataset, which contains user reviews and ratings of books, and the \"Books Data\" dataset, which provides detailed information about the books, including descriptions, authors, and publication details. By merging these datasets, I will investigate patterns and correlations to understand what makes a book well-received by readers."
   ]
  },
  {
   "cell_type": "markdown",
   "metadata": {},
   "source": [
    "### Research Questions : \n",
    "#### 1- what is the Most frequent Words in over 3 rated Reiews \n",
    "#### 2- Top 10 Authors with 5 star Ratings\n",
    "\n"
   ]
  },
  {
   "cell_type": "markdown",
   "metadata": {
    "id": "8AQfBAdUypMm"
   },
   "source": [
    "### **1.2.** Gather at least two datasets using two different data gathering methods\n",
    "\n",
    "List of data gathering methods:\n",
    "\n",
    "- Download data manually\n",
    "- Programmatically downloading files\n",
    "- Gather data by accessing APIs\n",
    "- Gather and extract data from HTML files using BeautifulSoup\n",
    "- Extract data from a SQL database\n",
    "\n",
    "Each dataset must have at least two variables, and have greater than 500 data samples within each dataset.\n",
    "\n",
    "For each dataset, briefly describe why you picked the dataset and the gathering method (2-3 full sentences), including the names and significance of the variables in the dataset. Show your work (e.g., if using an API to download the data, please include a snippet of your code). \n",
    "\n",
    "Load the dataset programmtically into this notebook."
   ]
  },
  {
   "cell_type": "markdown",
   "metadata": {
    "id": "7e6gS0wL1KTu"
   },
   "source": [
    "#### **Dataset 1** : Books_rating \n",
    "Description : The dataset contain feedback about 3M user on 212404 unique books the data set is part of the Amazon review Dataset it contains product reviews and metadata from Amazon, including 142.8 million reviews spanning May 1996 - July 2014.\n",
    "\n",
    "Type: CSV File \n",
    "\n",
    "Method:The data was gathered using the \"Downloading files manually \" method from Kaggle.\n",
    "\n",
    "Dataset variables:\n",
    "\n",
    "*   id: The Id of Book\n",
    "*   Title: Book Title \n",
    "*   Price: The price of Book\n",
    "*   User_id: Id of the user who rates the book\n",
    "*   profileName: Name of the user who rates the book\n",
    "*   review/helpfulness: helpfulness rating of the review, e.g. 2/3\n",
    "*   review/score: rating from 0 to 5 for the book\n",
    "*   review/time: time of given the review\n",
    "*   review/summary: the summary of a text review\n",
    "*   review/text: the full text of a review"
   ]
  },
  {
   "cell_type": "code",
   "execution_count": 6,
   "metadata": {
    "id": "Su8E0uLuYkHU"
   },
   "outputs": [],
   "source": [
    "#import nessecary libraries \n",
    "import pandas as pd \n",
    "import kaggle\n",
    "import numpy as np\n",
    "import matplotlib as plt\n",
    "import seaborn as sb\n",
    "import requests"
   ]
  },
  {
   "cell_type": "code",
   "execution_count": 7,
   "metadata": {},
   "outputs": [],
   "source": [
    "Book_rating=pd.read_csv('Books_rating.csv')"
   ]
  },
  {
   "cell_type": "code",
   "execution_count": 8,
   "metadata": {
    "scrolled": true
   },
   "outputs": [],
   "source": [
    "Book_rating = Book_rating.sample(50000)"
   ]
  },
  {
   "cell_type": "code",
   "execution_count": 10,
   "metadata": {},
   "outputs": [
    {
     "data": {
      "text/plain": [
       "(50000, 10)"
      ]
     },
     "execution_count": 10,
     "metadata": {},
     "output_type": "execute_result"
    }
   ],
   "source": [
    "Book_rating.shape"
   ]
  },
  {
   "cell_type": "markdown",
   "metadata": {},
   "source": [
    "# Notice : i cant upload the Book_rating CSV file to the submission due to large size of file (2.86GB) rather that i upload a random sample dataset file (Book_rating_raw) which is smaller than the original file "
   ]
  },
  {
   "cell_type": "markdown",
   "metadata": {
    "id": "hoUjq1tPzz7P"
   },
   "source": [
    "#### Dataset 2 : Books Data\n",
    "\n",
    "Description : The dataset contains details information about 212404 unique books it file is built by using google books API to get details information about books .\n",
    "\n",
    "Type: CSV File \n",
    "\n",
    "Method: The data was gathered using the \"API\" method from Kaggle \n",
    "\n",
    "Dataset variables:\n",
    "\n",
    "*   TitleBook: Title\n",
    "*   Descripe: decription of book\n",
    "*   authors:Neme of book authors\n",
    "*   image:url for book cover\n",
    "*   previewLink:link to access this book on google Books\n",
    "*   publisher: Name of the publisheer\n",
    "*   publishedDate: the date of publish\n",
    "*   infoLink: link to get more information about the book on google books\n",
    "*   categories:\tgenres of books\n",
    "*   ratingsCount: averaging rating for book"
   ]
  },
  {
   "cell_type": "code",
   "execution_count": 11,
   "metadata": {},
   "outputs": [],
   "source": [
    "import opendatasets as od "
   ]
  },
  {
   "cell_type": "code",
   "execution_count": 12,
   "metadata": {
    "scrolled": true
   },
   "outputs": [
    {
     "name": "stdout",
     "output_type": "stream",
     "text": [
      "Skipping, found downloaded files in \".\\amazon-books-reviews\" (use force=True to force download)\n"
     ]
    }
   ],
   "source": [
    "#import data from kaggle API\n",
    "kaggle_dataset_url = 'https://www.kaggle.com/datasets/mohamedbakhet/amazon-books-reviews'\n",
    "od.download(kaggle_dataset_url)"
   ]
  },
  {
   "cell_type": "code",
   "execution_count": 13,
   "metadata": {
    "scrolled": true
   },
   "outputs": [
    {
     "data": {
      "text/html": [
       "<div>\n",
       "<style scoped>\n",
       "    .dataframe tbody tr th:only-of-type {\n",
       "        vertical-align: middle;\n",
       "    }\n",
       "\n",
       "    .dataframe tbody tr th {\n",
       "        vertical-align: top;\n",
       "    }\n",
       "\n",
       "    .dataframe thead th {\n",
       "        text-align: right;\n",
       "    }\n",
       "</style>\n",
       "<table border=\"1\" class=\"dataframe\">\n",
       "  <thead>\n",
       "    <tr style=\"text-align: right;\">\n",
       "      <th></th>\n",
       "      <th>Title</th>\n",
       "      <th>description</th>\n",
       "      <th>authors</th>\n",
       "      <th>image</th>\n",
       "      <th>previewLink</th>\n",
       "      <th>publisher</th>\n",
       "      <th>publishedDate</th>\n",
       "      <th>infoLink</th>\n",
       "      <th>categories</th>\n",
       "      <th>ratingsCount</th>\n",
       "    </tr>\n",
       "  </thead>\n",
       "  <tbody>\n",
       "    <tr>\n",
       "      <th>0</th>\n",
       "      <td>Its Only Art If Its Well Hung!</td>\n",
       "      <td>NaN</td>\n",
       "      <td>['Julie Strain']</td>\n",
       "      <td>http://books.google.com/books/content?id=DykPA...</td>\n",
       "      <td>http://books.google.nl/books?id=DykPAAAACAAJ&amp;d...</td>\n",
       "      <td>NaN</td>\n",
       "      <td>1996</td>\n",
       "      <td>http://books.google.nl/books?id=DykPAAAACAAJ&amp;d...</td>\n",
       "      <td>['Comics &amp; Graphic Novels']</td>\n",
       "      <td>NaN</td>\n",
       "    </tr>\n",
       "    <tr>\n",
       "      <th>1</th>\n",
       "      <td>Dr. Seuss: American Icon</td>\n",
       "      <td>Philip Nel takes a fascinating look into the k...</td>\n",
       "      <td>['Philip Nel']</td>\n",
       "      <td>http://books.google.com/books/content?id=IjvHQ...</td>\n",
       "      <td>http://books.google.nl/books?id=IjvHQsCn_pgC&amp;p...</td>\n",
       "      <td>A&amp;C Black</td>\n",
       "      <td>2005-01-01</td>\n",
       "      <td>http://books.google.nl/books?id=IjvHQsCn_pgC&amp;d...</td>\n",
       "      <td>['Biography &amp; Autobiography']</td>\n",
       "      <td>NaN</td>\n",
       "    </tr>\n",
       "    <tr>\n",
       "      <th>2</th>\n",
       "      <td>Wonderful Worship in Smaller Churches</td>\n",
       "      <td>This resource includes twelve principles in un...</td>\n",
       "      <td>['David R. Ray']</td>\n",
       "      <td>http://books.google.com/books/content?id=2tsDA...</td>\n",
       "      <td>http://books.google.nl/books?id=2tsDAAAACAAJ&amp;d...</td>\n",
       "      <td>NaN</td>\n",
       "      <td>2000</td>\n",
       "      <td>http://books.google.nl/books?id=2tsDAAAACAAJ&amp;d...</td>\n",
       "      <td>['Religion']</td>\n",
       "      <td>NaN</td>\n",
       "    </tr>\n",
       "    <tr>\n",
       "      <th>3</th>\n",
       "      <td>Whispers of the Wicked Saints</td>\n",
       "      <td>Julia Thomas finds her life spinning out of co...</td>\n",
       "      <td>['Veronica Haddon']</td>\n",
       "      <td>http://books.google.com/books/content?id=aRSIg...</td>\n",
       "      <td>http://books.google.nl/books?id=aRSIgJlq6JwC&amp;d...</td>\n",
       "      <td>iUniverse</td>\n",
       "      <td>2005-02</td>\n",
       "      <td>http://books.google.nl/books?id=aRSIgJlq6JwC&amp;d...</td>\n",
       "      <td>['Fiction']</td>\n",
       "      <td>NaN</td>\n",
       "    </tr>\n",
       "    <tr>\n",
       "      <th>4</th>\n",
       "      <td>Nation Dance: Religion, Identity and Cultural ...</td>\n",
       "      <td>NaN</td>\n",
       "      <td>['Edward Long']</td>\n",
       "      <td>NaN</td>\n",
       "      <td>http://books.google.nl/books?id=399SPgAACAAJ&amp;d...</td>\n",
       "      <td>NaN</td>\n",
       "      <td>2003-03-01</td>\n",
       "      <td>http://books.google.nl/books?id=399SPgAACAAJ&amp;d...</td>\n",
       "      <td>NaN</td>\n",
       "      <td>NaN</td>\n",
       "    </tr>\n",
       "    <tr>\n",
       "      <th>...</th>\n",
       "      <td>...</td>\n",
       "      <td>...</td>\n",
       "      <td>...</td>\n",
       "      <td>...</td>\n",
       "      <td>...</td>\n",
       "      <td>...</td>\n",
       "      <td>...</td>\n",
       "      <td>...</td>\n",
       "      <td>...</td>\n",
       "      <td>...</td>\n",
       "    </tr>\n",
       "    <tr>\n",
       "      <th>212399</th>\n",
       "      <td>The Orphan Of Ellis Island (Time Travel Advent...</td>\n",
       "      <td>During a school trip to Ellis Island, Dominick...</td>\n",
       "      <td>['Elvira Woodruff']</td>\n",
       "      <td>http://books.google.com/books/content?id=J7M-N...</td>\n",
       "      <td>http://books.google.com/books?id=J7M-NwAACAAJ&amp;...</td>\n",
       "      <td>Scholastic Paperbacks</td>\n",
       "      <td>2000-06-01</td>\n",
       "      <td>http://books.google.com/books?id=J7M-NwAACAAJ&amp;...</td>\n",
       "      <td>['Juvenile Fiction']</td>\n",
       "      <td>2.0</td>\n",
       "    </tr>\n",
       "    <tr>\n",
       "      <th>212400</th>\n",
       "      <td>Red Boots for Christmas</td>\n",
       "      <td>Everyone in the village of Friedensdorf is hap...</td>\n",
       "      <td>NaN</td>\n",
       "      <td>http://books.google.com/books/content?id=3n8k6...</td>\n",
       "      <td>http://books.google.com/books?id=3n8k6wl4BbYC&amp;...</td>\n",
       "      <td>NaN</td>\n",
       "      <td>1995</td>\n",
       "      <td>http://books.google.com/books?id=3n8k6wl4BbYC&amp;...</td>\n",
       "      <td>['Juvenile Fiction']</td>\n",
       "      <td>NaN</td>\n",
       "    </tr>\n",
       "    <tr>\n",
       "      <th>212401</th>\n",
       "      <td>Mamaw</td>\n",
       "      <td>Give your Mamaw a useful, beautiful and though...</td>\n",
       "      <td>['Wild Wild Cabbage']</td>\n",
       "      <td>NaN</td>\n",
       "      <td>http://books.google.com/books?id=zytVswEACAAJ&amp;...</td>\n",
       "      <td>NaN</td>\n",
       "      <td>2018-01-17</td>\n",
       "      <td>http://books.google.com/books?id=zytVswEACAAJ&amp;...</td>\n",
       "      <td>NaN</td>\n",
       "      <td>NaN</td>\n",
       "    </tr>\n",
       "    <tr>\n",
       "      <th>212402</th>\n",
       "      <td>The Autograph Man</td>\n",
       "      <td>Alex-Li Tandem sells autographs. His business ...</td>\n",
       "      <td>['Zadie Smith']</td>\n",
       "      <td>http://books.google.com/books/content?id=JM6YV...</td>\n",
       "      <td>http://books.google.com/books?id=JM6YVPx_clMC&amp;...</td>\n",
       "      <td>Vintage</td>\n",
       "      <td>2003-08-12</td>\n",
       "      <td>https://play.google.com/store/books/details?id...</td>\n",
       "      <td>['Fiction']</td>\n",
       "      <td>19.0</td>\n",
       "    </tr>\n",
       "    <tr>\n",
       "      <th>212403</th>\n",
       "      <td>Student's Solutions Manual for Johnson/Mowry's...</td>\n",
       "      <td>Discover the many ways mathematics is relevant...</td>\n",
       "      <td>['David B. Johnson', 'Thomas A. Mowry']</td>\n",
       "      <td>http://books.google.com/books/content?id=dehfP...</td>\n",
       "      <td>http://books.google.com/books?id=dehfPgAACAAJ&amp;...</td>\n",
       "      <td>Brooks/Cole Publishing Company</td>\n",
       "      <td>1998-01-01</td>\n",
       "      <td>http://books.google.com/books?id=dehfPgAACAAJ&amp;...</td>\n",
       "      <td>NaN</td>\n",
       "      <td>NaN</td>\n",
       "    </tr>\n",
       "  </tbody>\n",
       "</table>\n",
       "<p>212404 rows × 10 columns</p>\n",
       "</div>"
      ],
      "text/plain": [
       "                                                    Title  \\\n",
       "0                          Its Only Art If Its Well Hung!   \n",
       "1                                Dr. Seuss: American Icon   \n",
       "2                   Wonderful Worship in Smaller Churches   \n",
       "3                           Whispers of the Wicked Saints   \n",
       "4       Nation Dance: Religion, Identity and Cultural ...   \n",
       "...                                                   ...   \n",
       "212399  The Orphan Of Ellis Island (Time Travel Advent...   \n",
       "212400                            Red Boots for Christmas   \n",
       "212401                                              Mamaw   \n",
       "212402                                  The Autograph Man   \n",
       "212403  Student's Solutions Manual for Johnson/Mowry's...   \n",
       "\n",
       "                                              description  \\\n",
       "0                                                     NaN   \n",
       "1       Philip Nel takes a fascinating look into the k...   \n",
       "2       This resource includes twelve principles in un...   \n",
       "3       Julia Thomas finds her life spinning out of co...   \n",
       "4                                                     NaN   \n",
       "...                                                   ...   \n",
       "212399  During a school trip to Ellis Island, Dominick...   \n",
       "212400  Everyone in the village of Friedensdorf is hap...   \n",
       "212401  Give your Mamaw a useful, beautiful and though...   \n",
       "212402  Alex-Li Tandem sells autographs. His business ...   \n",
       "212403  Discover the many ways mathematics is relevant...   \n",
       "\n",
       "                                        authors  \\\n",
       "0                              ['Julie Strain']   \n",
       "1                                ['Philip Nel']   \n",
       "2                              ['David R. Ray']   \n",
       "3                           ['Veronica Haddon']   \n",
       "4                               ['Edward Long']   \n",
       "...                                         ...   \n",
       "212399                      ['Elvira Woodruff']   \n",
       "212400                                      NaN   \n",
       "212401                    ['Wild Wild Cabbage']   \n",
       "212402                          ['Zadie Smith']   \n",
       "212403  ['David B. Johnson', 'Thomas A. Mowry']   \n",
       "\n",
       "                                                    image  \\\n",
       "0       http://books.google.com/books/content?id=DykPA...   \n",
       "1       http://books.google.com/books/content?id=IjvHQ...   \n",
       "2       http://books.google.com/books/content?id=2tsDA...   \n",
       "3       http://books.google.com/books/content?id=aRSIg...   \n",
       "4                                                     NaN   \n",
       "...                                                   ...   \n",
       "212399  http://books.google.com/books/content?id=J7M-N...   \n",
       "212400  http://books.google.com/books/content?id=3n8k6...   \n",
       "212401                                                NaN   \n",
       "212402  http://books.google.com/books/content?id=JM6YV...   \n",
       "212403  http://books.google.com/books/content?id=dehfP...   \n",
       "\n",
       "                                              previewLink  \\\n",
       "0       http://books.google.nl/books?id=DykPAAAACAAJ&d...   \n",
       "1       http://books.google.nl/books?id=IjvHQsCn_pgC&p...   \n",
       "2       http://books.google.nl/books?id=2tsDAAAACAAJ&d...   \n",
       "3       http://books.google.nl/books?id=aRSIgJlq6JwC&d...   \n",
       "4       http://books.google.nl/books?id=399SPgAACAAJ&d...   \n",
       "...                                                   ...   \n",
       "212399  http://books.google.com/books?id=J7M-NwAACAAJ&...   \n",
       "212400  http://books.google.com/books?id=3n8k6wl4BbYC&...   \n",
       "212401  http://books.google.com/books?id=zytVswEACAAJ&...   \n",
       "212402  http://books.google.com/books?id=JM6YVPx_clMC&...   \n",
       "212403  http://books.google.com/books?id=dehfPgAACAAJ&...   \n",
       "\n",
       "                             publisher publishedDate  \\\n",
       "0                                  NaN          1996   \n",
       "1                            A&C Black    2005-01-01   \n",
       "2                                  NaN          2000   \n",
       "3                            iUniverse       2005-02   \n",
       "4                                  NaN    2003-03-01   \n",
       "...                                ...           ...   \n",
       "212399           Scholastic Paperbacks    2000-06-01   \n",
       "212400                             NaN          1995   \n",
       "212401                             NaN    2018-01-17   \n",
       "212402                         Vintage    2003-08-12   \n",
       "212403  Brooks/Cole Publishing Company    1998-01-01   \n",
       "\n",
       "                                                 infoLink  \\\n",
       "0       http://books.google.nl/books?id=DykPAAAACAAJ&d...   \n",
       "1       http://books.google.nl/books?id=IjvHQsCn_pgC&d...   \n",
       "2       http://books.google.nl/books?id=2tsDAAAACAAJ&d...   \n",
       "3       http://books.google.nl/books?id=aRSIgJlq6JwC&d...   \n",
       "4       http://books.google.nl/books?id=399SPgAACAAJ&d...   \n",
       "...                                                   ...   \n",
       "212399  http://books.google.com/books?id=J7M-NwAACAAJ&...   \n",
       "212400  http://books.google.com/books?id=3n8k6wl4BbYC&...   \n",
       "212401  http://books.google.com/books?id=zytVswEACAAJ&...   \n",
       "212402  https://play.google.com/store/books/details?id...   \n",
       "212403  http://books.google.com/books?id=dehfPgAACAAJ&...   \n",
       "\n",
       "                           categories  ratingsCount  \n",
       "0         ['Comics & Graphic Novels']           NaN  \n",
       "1       ['Biography & Autobiography']           NaN  \n",
       "2                        ['Religion']           NaN  \n",
       "3                         ['Fiction']           NaN  \n",
       "4                                 NaN           NaN  \n",
       "...                               ...           ...  \n",
       "212399           ['Juvenile Fiction']           2.0  \n",
       "212400           ['Juvenile Fiction']           NaN  \n",
       "212401                            NaN           NaN  \n",
       "212402                    ['Fiction']          19.0  \n",
       "212403                            NaN           NaN  \n",
       "\n",
       "[212404 rows x 10 columns]"
      ]
     },
     "execution_count": 13,
     "metadata": {},
     "output_type": "execute_result"
    }
   ],
   "source": [
    "# load book_data dataset\n",
    "csv_file_path = 'amazon-books-reviews/books_data.csv'\n",
    "book_data= pd.read_csv(csv_file_path)\n",
    "book_data"
   ]
  },
  {
   "cell_type": "markdown",
   "metadata": {
    "id": "QwSWIVmotLgV"
   },
   "source": [
    "## 2. Assess data\n",
    "\n"
   ]
  },
  {
   "cell_type": "markdown",
   "metadata": {},
   "source": [
    "## Dataset 1 : Book_rating "
   ]
  },
  {
   "cell_type": "markdown",
   "metadata": {
    "id": "adaK2iPNzVu4"
   },
   "source": [
    "### Quality Issue 1: Completeness\n"
   ]
  },
  {
   "cell_type": "code",
   "execution_count": 14,
   "metadata": {
    "id": "SpW59kh-zl8d"
   },
   "outputs": [
    {
     "data": {
      "text/html": [
       "<div>\n",
       "<style scoped>\n",
       "    .dataframe tbody tr th:only-of-type {\n",
       "        vertical-align: middle;\n",
       "    }\n",
       "\n",
       "    .dataframe tbody tr th {\n",
       "        vertical-align: top;\n",
       "    }\n",
       "\n",
       "    .dataframe thead th {\n",
       "        text-align: right;\n",
       "    }\n",
       "</style>\n",
       "<table border=\"1\" class=\"dataframe\">\n",
       "  <thead>\n",
       "    <tr style=\"text-align: right;\">\n",
       "      <th></th>\n",
       "      <th>Id</th>\n",
       "      <th>Title</th>\n",
       "      <th>Price</th>\n",
       "      <th>User_id</th>\n",
       "      <th>profileName</th>\n",
       "      <th>review/helpfulness</th>\n",
       "      <th>review/score</th>\n",
       "      <th>review/time</th>\n",
       "      <th>review/summary</th>\n",
       "      <th>review/text</th>\n",
       "    </tr>\n",
       "  </thead>\n",
       "  <tbody>\n",
       "    <tr>\n",
       "      <th>156285</th>\n",
       "      <td>B000P3LVZA</td>\n",
       "      <td>Brave New World</td>\n",
       "      <td>NaN</td>\n",
       "      <td>NaN</td>\n",
       "      <td>NaN</td>\n",
       "      <td>0/0</td>\n",
       "      <td>5.0</td>\n",
       "      <td>881107200</td>\n",
       "      <td>Excellent book, he wrote 20 years ago what's h...</td>\n",
       "      <td>Aldou huxley was a remarkable writer. And perh...</td>\n",
       "    </tr>\n",
       "    <tr>\n",
       "      <th>621965</th>\n",
       "      <td>B0007DJSVW</td>\n",
       "      <td>The true believer: Thoughts on the nature of m...</td>\n",
       "      <td>NaN</td>\n",
       "      <td>A6ATAUDS9UHXT</td>\n",
       "      <td>Charles Cieri</td>\n",
       "      <td>3/4</td>\n",
       "      <td>5.0</td>\n",
       "      <td>1275696000</td>\n",
       "      <td>A must read for anyone who thinks</td>\n",
       "      <td>You'll think it was written in whatever year y...</td>\n",
       "    </tr>\n",
       "    <tr>\n",
       "      <th>908905</th>\n",
       "      <td>0786118490</td>\n",
       "      <td>Persuasion</td>\n",
       "      <td>NaN</td>\n",
       "      <td>NaN</td>\n",
       "      <td>NaN</td>\n",
       "      <td>0/0</td>\n",
       "      <td>4.0</td>\n",
       "      <td>901411200</td>\n",
       "      <td>Most mature work</td>\n",
       "      <td>I found Persuasion to be the most mature of al...</td>\n",
       "    </tr>\n",
       "    <tr>\n",
       "      <th>1126939</th>\n",
       "      <td>1853268550</td>\n",
       "      <td>Persuasion</td>\n",
       "      <td>NaN</td>\n",
       "      <td>A3IK9XHM40V1RX</td>\n",
       "      <td>Courtney Rose</td>\n",
       "      <td>0/0</td>\n",
       "      <td>5.0</td>\n",
       "      <td>1341878400</td>\n",
       "      <td>A wonderful book</td>\n",
       "      <td>I was very excited to find this as an ebook! I...</td>\n",
       "    </tr>\n",
       "    <tr>\n",
       "      <th>2340194</th>\n",
       "      <td>B000K1ZL1W</td>\n",
       "      <td>Equal Rites</td>\n",
       "      <td>NaN</td>\n",
       "      <td>A3ADA4TND5VOY6</td>\n",
       "      <td>Charles G. Fry \"cgfry\"</td>\n",
       "      <td>0/0</td>\n",
       "      <td>5.0</td>\n",
       "      <td>1148688000</td>\n",
       "      <td>Two lovable characters, Esk and Granny</td>\n",
       "      <td>Esk is the eighth child of an eighth son. An a...</td>\n",
       "    </tr>\n",
       "  </tbody>\n",
       "</table>\n",
       "</div>"
      ],
      "text/plain": [
       "                 Id                                              Title  Price  \\\n",
       "156285   B000P3LVZA                                    Brave New World    NaN   \n",
       "621965   B0007DJSVW  The true believer: Thoughts on the nature of m...    NaN   \n",
       "908905   0786118490                                         Persuasion    NaN   \n",
       "1126939  1853268550                                         Persuasion    NaN   \n",
       "2340194  B000K1ZL1W                                        Equal Rites    NaN   \n",
       "\n",
       "                User_id             profileName review/helpfulness  \\\n",
       "156285              NaN                     NaN                0/0   \n",
       "621965    A6ATAUDS9UHXT           Charles Cieri                3/4   \n",
       "908905              NaN                     NaN                0/0   \n",
       "1126939  A3IK9XHM40V1RX           Courtney Rose                0/0   \n",
       "2340194  A3ADA4TND5VOY6  Charles G. Fry \"cgfry\"                0/0   \n",
       "\n",
       "         review/score  review/time  \\\n",
       "156285            5.0    881107200   \n",
       "621965            5.0   1275696000   \n",
       "908905            4.0    901411200   \n",
       "1126939           5.0   1341878400   \n",
       "2340194           5.0   1148688000   \n",
       "\n",
       "                                            review/summary  \\\n",
       "156285   Excellent book, he wrote 20 years ago what's h...   \n",
       "621965                   A must read for anyone who thinks   \n",
       "908905                                    Most mature work   \n",
       "1126939                                   A wonderful book   \n",
       "2340194             Two lovable characters, Esk and Granny   \n",
       "\n",
       "                                               review/text  \n",
       "156285   Aldou huxley was a remarkable writer. And perh...  \n",
       "621965   You'll think it was written in whatever year y...  \n",
       "908905   I found Persuasion to be the most mature of al...  \n",
       "1126939  I was very excited to find this as an ebook! I...  \n",
       "2340194  Esk is the eighth child of an eighth son. An a...  "
      ]
     },
     "execution_count": 14,
     "metadata": {},
     "output_type": "execute_result"
    }
   ],
   "source": [
    "#Inspecting the dataframe visiually \n",
    "Book_rating.head()"
   ]
  },
  {
   "cell_type": "markdown",
   "metadata": {},
   "source": [
    "*    After assessing data visually using .head() method we notice that there is missing values in Price column\n",
    "     "
   ]
  },
  {
   "cell_type": "code",
   "execution_count": 15,
   "metadata": {
    "id": "-qfcocStzsKg"
   },
   "outputs": [
    {
     "name": "stdout",
     "output_type": "stream",
     "text": [
      "Missing values:\n",
      " Id                        0\n",
      "Title                     5\n",
      "Price                 42104\n",
      "User_id                9415\n",
      "profileName            9417\n",
      "review/helpfulness        0\n",
      "review/score              0\n",
      "review/time               0\n",
      "review/summary            6\n",
      "review/text               0\n",
      "dtype: int64\n"
     ]
    }
   ],
   "source": [
    "#Inspecting the dataframe programmatically\n",
    "print(\"Missing values:\\n\", Book_rating.isnull().sum())"
   ]
  },
  {
   "cell_type": "markdown",
   "metadata": {},
   "source": [
    "*    Issue and justification:  These methods provide an initial overview and a detailed count of missing values, essential for assessing data completeness. viusally using .head() and programmatically using .isnull() "
   ]
  },
  {
   "cell_type": "markdown",
   "metadata": {
    "id": "8Be77N4I1AmE"
   },
   "source": [
    "### Quality Issue 2 : Consistency"
   ]
  },
  {
   "cell_type": "markdown",
   "metadata": {},
   "source": [
    "* Description: Review Time should be in the datetime formate "
   ]
  },
  {
   "cell_type": "code",
   "execution_count": 16,
   "metadata": {
    "id": "iMhHyiyLM2I3"
   },
   "outputs": [
    {
     "data": {
      "text/html": [
       "<div>\n",
       "<style scoped>\n",
       "    .dataframe tbody tr th:only-of-type {\n",
       "        vertical-align: middle;\n",
       "    }\n",
       "\n",
       "    .dataframe tbody tr th {\n",
       "        vertical-align: top;\n",
       "    }\n",
       "\n",
       "    .dataframe thead th {\n",
       "        text-align: right;\n",
       "    }\n",
       "</style>\n",
       "<table border=\"1\" class=\"dataframe\">\n",
       "  <thead>\n",
       "    <tr style=\"text-align: right;\">\n",
       "      <th></th>\n",
       "      <th>Id</th>\n",
       "      <th>Title</th>\n",
       "      <th>Price</th>\n",
       "      <th>User_id</th>\n",
       "      <th>profileName</th>\n",
       "      <th>review/helpfulness</th>\n",
       "      <th>review/score</th>\n",
       "      <th>review/time</th>\n",
       "      <th>review/summary</th>\n",
       "      <th>review/text</th>\n",
       "    </tr>\n",
       "  </thead>\n",
       "  <tbody>\n",
       "    <tr>\n",
       "      <th>1097420</th>\n",
       "      <td>072785836X</td>\n",
       "      <td>Ralph's Party</td>\n",
       "      <td>NaN</td>\n",
       "      <td>A3AXN8QO3M0JTE</td>\n",
       "      <td>Kirstin G. Larson</td>\n",
       "      <td>1/1</td>\n",
       "      <td>3.0</td>\n",
       "      <td>1026259200</td>\n",
       "      <td>Beach Bag Requirement</td>\n",
       "      <td>Here's another great summer beach read. Lisa J...</td>\n",
       "    </tr>\n",
       "    <tr>\n",
       "      <th>2367561</th>\n",
       "      <td>0816157871</td>\n",
       "      <td>Native Son (G K Hall Large Print Book Series)</td>\n",
       "      <td>NaN</td>\n",
       "      <td>A1UKAHNS60SLMQ</td>\n",
       "      <td>lordvishnu</td>\n",
       "      <td>2/12</td>\n",
       "      <td>2.0</td>\n",
       "      <td>1101600000</td>\n",
       "      <td>boring</td>\n",
       "      <td>sure this tells us all about racism and how it...</td>\n",
       "    </tr>\n",
       "    <tr>\n",
       "      <th>2850812</th>\n",
       "      <td>0736694242</td>\n",
       "      <td>Under the Banner of Heaven</td>\n",
       "      <td>NaN</td>\n",
       "      <td>ABMNIGYKU3FOR</td>\n",
       "      <td>K. Louw \"book lover\"</td>\n",
       "      <td>3/3</td>\n",
       "      <td>5.0</td>\n",
       "      <td>1300492800</td>\n",
       "      <td>Under the Banner of Heaven</td>\n",
       "      <td>I have to say that I love reading on the subje...</td>\n",
       "    </tr>\n",
       "    <tr>\n",
       "      <th>2612681</th>\n",
       "      <td>B000FQ4L1I</td>\n",
       "      <td>The First Epistle to the Corinthians (The New ...</td>\n",
       "      <td>11.20</td>\n",
       "      <td>A1TMFN8J781HQM</td>\n",
       "      <td>D. M. Albright</td>\n",
       "      <td>2/6</td>\n",
       "      <td>5.0</td>\n",
       "      <td>1137456000</td>\n",
       "      <td>great commentary</td>\n",
       "      <td>Without a doubt the best english commentary wr...</td>\n",
       "    </tr>\n",
       "    <tr>\n",
       "      <th>666659</th>\n",
       "      <td>B0007F8R9E</td>\n",
       "      <td>The way of the storyteller</td>\n",
       "      <td>NaN</td>\n",
       "      <td>AC5L429LZZNXT</td>\n",
       "      <td>E. Dale</td>\n",
       "      <td>0/0</td>\n",
       "      <td>4.0</td>\n",
       "      <td>1298678400</td>\n",
       "      <td>Review of The Way of the Storyteller</td>\n",
       "      <td>Delightful, inspiring, helpful!Highly recommen...</td>\n",
       "    </tr>\n",
       "    <tr>\n",
       "      <th>2991084</th>\n",
       "      <td>0762709677</td>\n",
       "      <td>Woodall's Tenting Directory, 2002</td>\n",
       "      <td>NaN</td>\n",
       "      <td>A3F37BQVZ7AXLK</td>\n",
       "      <td>MrsVagrant@aol.com</td>\n",
       "      <td>2/2</td>\n",
       "      <td>4.0</td>\n",
       "      <td>1030752000</td>\n",
       "      <td>Family Oriented</td>\n",
       "      <td>These line of books give you the basic idea of...</td>\n",
       "    </tr>\n",
       "    <tr>\n",
       "      <th>2463277</th>\n",
       "      <td>B000MUQ2KA</td>\n",
       "      <td>The Perfect Husband</td>\n",
       "      <td>NaN</td>\n",
       "      <td>AL5J5PXAYPFA0</td>\n",
       "      <td>Latrece A. Gladden</td>\n",
       "      <td>3/4</td>\n",
       "      <td>4.0</td>\n",
       "      <td>1124236800</td>\n",
       "      <td>CAN'T GET ENOUGH</td>\n",
       "      <td>THE PERFECT HUSBAND WAS THE FIFTH BOOK THAT I ...</td>\n",
       "    </tr>\n",
       "    <tr>\n",
       "      <th>787829</th>\n",
       "      <td>B000P0JGM8</td>\n",
       "      <td>Garlic and Sapphires: The Secret Life of a Cri...</td>\n",
       "      <td>NaN</td>\n",
       "      <td>A1DQYLB48NAAHZ</td>\n",
       "      <td>lior shapira</td>\n",
       "      <td>1/4</td>\n",
       "      <td>1.0</td>\n",
       "      <td>1329436800</td>\n",
       "      <td>Why is the Kindle edition more expensive than ...</td>\n",
       "      <td>The book might be fabulous but I will never kn...</td>\n",
       "    </tr>\n",
       "    <tr>\n",
       "      <th>543282</th>\n",
       "      <td>1597370037</td>\n",
       "      <td>The Picture of Dorian Gray (The Classic Collec...</td>\n",
       "      <td>25.04</td>\n",
       "      <td>AGIDOL15C8S9T</td>\n",
       "      <td>Lisa Sloane</td>\n",
       "      <td>1/2</td>\n",
       "      <td>5.0</td>\n",
       "      <td>980985600</td>\n",
       "      <td>A novel worth a thousand acclaims...</td>\n",
       "      <td>A tale of beuty, love, innocence and cruelty. ...</td>\n",
       "    </tr>\n",
       "    <tr>\n",
       "      <th>2523537</th>\n",
       "      <td>0609803603</td>\n",
       "      <td>Discovering Your Soul Mission: How to Use Karm...</td>\n",
       "      <td>NaN</td>\n",
       "      <td>AMTVOT24TEFOQ</td>\n",
       "      <td>Jeff</td>\n",
       "      <td>10/10</td>\n",
       "      <td>5.0</td>\n",
       "      <td>995328000</td>\n",
       "      <td>I'm still trippin'!</td>\n",
       "      <td>I just finished reading this book and my mind ...</td>\n",
       "    </tr>\n",
       "  </tbody>\n",
       "</table>\n",
       "</div>"
      ],
      "text/plain": [
       "                 Id                                              Title  Price  \\\n",
       "1097420  072785836X                                      Ralph's Party    NaN   \n",
       "2367561  0816157871      Native Son (G K Hall Large Print Book Series)    NaN   \n",
       "2850812  0736694242                         Under the Banner of Heaven    NaN   \n",
       "2612681  B000FQ4L1I  The First Epistle to the Corinthians (The New ...  11.20   \n",
       "666659   B0007F8R9E                         The way of the storyteller    NaN   \n",
       "2991084  0762709677                  Woodall's Tenting Directory, 2002    NaN   \n",
       "2463277  B000MUQ2KA                                The Perfect Husband    NaN   \n",
       "787829   B000P0JGM8  Garlic and Sapphires: The Secret Life of a Cri...    NaN   \n",
       "543282   1597370037  The Picture of Dorian Gray (The Classic Collec...  25.04   \n",
       "2523537  0609803603  Discovering Your Soul Mission: How to Use Karm...    NaN   \n",
       "\n",
       "                User_id           profileName review/helpfulness  \\\n",
       "1097420  A3AXN8QO3M0JTE     Kirstin G. Larson                1/1   \n",
       "2367561  A1UKAHNS60SLMQ            lordvishnu               2/12   \n",
       "2850812   ABMNIGYKU3FOR  K. Louw \"book lover\"                3/3   \n",
       "2612681  A1TMFN8J781HQM        D. M. Albright                2/6   \n",
       "666659    AC5L429LZZNXT               E. Dale                0/0   \n",
       "2991084  A3F37BQVZ7AXLK    MrsVagrant@aol.com                2/2   \n",
       "2463277   AL5J5PXAYPFA0    Latrece A. Gladden                3/4   \n",
       "787829   A1DQYLB48NAAHZ          lior shapira                1/4   \n",
       "543282    AGIDOL15C8S9T           Lisa Sloane                1/2   \n",
       "2523537   AMTVOT24TEFOQ                  Jeff              10/10   \n",
       "\n",
       "         review/score  review/time  \\\n",
       "1097420           3.0   1026259200   \n",
       "2367561           2.0   1101600000   \n",
       "2850812           5.0   1300492800   \n",
       "2612681           5.0   1137456000   \n",
       "666659            4.0   1298678400   \n",
       "2991084           4.0   1030752000   \n",
       "2463277           4.0   1124236800   \n",
       "787829            1.0   1329436800   \n",
       "543282            5.0    980985600   \n",
       "2523537           5.0    995328000   \n",
       "\n",
       "                                            review/summary  \\\n",
       "1097420                              Beach Bag Requirement   \n",
       "2367561                                             boring   \n",
       "2850812                         Under the Banner of Heaven   \n",
       "2612681                                   great commentary   \n",
       "666659                Review of The Way of the Storyteller   \n",
       "2991084                                    Family Oriented   \n",
       "2463277                                   CAN'T GET ENOUGH   \n",
       "787829   Why is the Kindle edition more expensive than ...   \n",
       "543282                A novel worth a thousand acclaims...   \n",
       "2523537                                I'm still trippin'!   \n",
       "\n",
       "                                               review/text  \n",
       "1097420  Here's another great summer beach read. Lisa J...  \n",
       "2367561  sure this tells us all about racism and how it...  \n",
       "2850812  I have to say that I love reading on the subje...  \n",
       "2612681  Without a doubt the best english commentary wr...  \n",
       "666659   Delightful, inspiring, helpful!Highly recommen...  \n",
       "2991084  These line of books give you the basic idea of...  \n",
       "2463277  THE PERFECT HUSBAND WAS THE FIFTH BOOK THAT I ...  \n",
       "787829   The book might be fabulous but I will never kn...  \n",
       "543282   A tale of beuty, love, innocence and cruelty. ...  \n",
       "2523537  I just finished reading this book and my mind ...  "
      ]
     },
     "execution_count": 16,
     "metadata": {},
     "output_type": "execute_result"
    }
   ],
   "source": [
    "#Inspecting the dataframe visually\n",
    "Book_rating.sample(n=10 , random_state=25)"
   ]
  },
  {
   "cell_type": "markdown",
   "metadata": {},
   "source": [
    "*  after dispaly a random samples or raws of data visually we notice that all review/time is not in time format"
   ]
  },
  {
   "cell_type": "code",
   "execution_count": 17,
   "metadata": {},
   "outputs": [
    {
     "name": "stdout",
     "output_type": "stream",
     "text": [
      "<class 'pandas.core.series.Series'>\n",
      "Index: 50000 entries, 156285 to 2289966\n",
      "Series name: review/time\n",
      "Non-Null Count  Dtype\n",
      "--------------  -----\n",
      "50000 non-null  int64\n",
      "dtypes: int64(1)\n",
      "memory usage: 781.2 KB\n",
      "None\n",
      "Values not in proper time format:\n",
      "Empty DataFrame\n",
      "Columns: [review/time]\n",
      "Index: []\n"
     ]
    }
   ],
   "source": [
    "print(Book_rating['review/time'].info())\n",
    "\n",
    "# check review/time programmatically \n",
    "from datetime import datetime\n",
    "def check_time_format(value):\n",
    "    try:\n",
    "        datetime.fromtimestamp(int(value))\n",
    "        return True\n",
    "    except (ValueError, OSError):\n",
    "        return False\n",
    "\n",
    "# Check and print the results\n",
    "valid_time_format = Book_rating['review/time'].apply(check_time_format)\n",
    "invalid_times = Book_rating[~valid_time_format]\n",
    "\n",
    "print(\"Values not in proper time format:\")\n",
    "print(invalid_times[['review/time']])"
   ]
  },
  {
   "cell_type": "markdown",
   "metadata": {},
   "source": [
    "* Issue and justification: This method check that the review time  is timestamp format , maintaining data consistency.\n",
    "\n"
   ]
  },
  {
   "cell_type": "markdown",
   "metadata": {
    "id": "lXhGiYyiwwKN"
   },
   "source": [
    "### Tidiness Issue 1: Each Variable Forms a Column"
   ]
  },
  {
   "cell_type": "code",
   "execution_count": 18,
   "metadata": {
    "id": "fleC5rORI0Xl"
   },
   "outputs": [
    {
     "data": {
      "text/html": [
       "<div>\n",
       "<style scoped>\n",
       "    .dataframe tbody tr th:only-of-type {\n",
       "        vertical-align: middle;\n",
       "    }\n",
       "\n",
       "    .dataframe tbody tr th {\n",
       "        vertical-align: top;\n",
       "    }\n",
       "\n",
       "    .dataframe thead th {\n",
       "        text-align: right;\n",
       "    }\n",
       "</style>\n",
       "<table border=\"1\" class=\"dataframe\">\n",
       "  <thead>\n",
       "    <tr style=\"text-align: right;\">\n",
       "      <th></th>\n",
       "      <th>Id</th>\n",
       "      <th>Title</th>\n",
       "      <th>Price</th>\n",
       "      <th>User_id</th>\n",
       "      <th>profileName</th>\n",
       "      <th>review/helpfulness</th>\n",
       "      <th>review/score</th>\n",
       "      <th>review/time</th>\n",
       "      <th>review/summary</th>\n",
       "      <th>review/text</th>\n",
       "    </tr>\n",
       "  </thead>\n",
       "  <tbody>\n",
       "    <tr>\n",
       "      <th>156285</th>\n",
       "      <td>B000P3LVZA</td>\n",
       "      <td>Brave New World</td>\n",
       "      <td>NaN</td>\n",
       "      <td>NaN</td>\n",
       "      <td>NaN</td>\n",
       "      <td>0/0</td>\n",
       "      <td>5.0</td>\n",
       "      <td>881107200</td>\n",
       "      <td>Excellent book, he wrote 20 years ago what's h...</td>\n",
       "      <td>Aldou huxley was a remarkable writer. And perh...</td>\n",
       "    </tr>\n",
       "    <tr>\n",
       "      <th>621965</th>\n",
       "      <td>B0007DJSVW</td>\n",
       "      <td>The true believer: Thoughts on the nature of m...</td>\n",
       "      <td>NaN</td>\n",
       "      <td>A6ATAUDS9UHXT</td>\n",
       "      <td>Charles Cieri</td>\n",
       "      <td>3/4</td>\n",
       "      <td>5.0</td>\n",
       "      <td>1275696000</td>\n",
       "      <td>A must read for anyone who thinks</td>\n",
       "      <td>You'll think it was written in whatever year y...</td>\n",
       "    </tr>\n",
       "    <tr>\n",
       "      <th>908905</th>\n",
       "      <td>0786118490</td>\n",
       "      <td>Persuasion</td>\n",
       "      <td>NaN</td>\n",
       "      <td>NaN</td>\n",
       "      <td>NaN</td>\n",
       "      <td>0/0</td>\n",
       "      <td>4.0</td>\n",
       "      <td>901411200</td>\n",
       "      <td>Most mature work</td>\n",
       "      <td>I found Persuasion to be the most mature of al...</td>\n",
       "    </tr>\n",
       "    <tr>\n",
       "      <th>1126939</th>\n",
       "      <td>1853268550</td>\n",
       "      <td>Persuasion</td>\n",
       "      <td>NaN</td>\n",
       "      <td>A3IK9XHM40V1RX</td>\n",
       "      <td>Courtney Rose</td>\n",
       "      <td>0/0</td>\n",
       "      <td>5.0</td>\n",
       "      <td>1341878400</td>\n",
       "      <td>A wonderful book</td>\n",
       "      <td>I was very excited to find this as an ebook! I...</td>\n",
       "    </tr>\n",
       "    <tr>\n",
       "      <th>2340194</th>\n",
       "      <td>B000K1ZL1W</td>\n",
       "      <td>Equal Rites</td>\n",
       "      <td>NaN</td>\n",
       "      <td>A3ADA4TND5VOY6</td>\n",
       "      <td>Charles G. Fry \"cgfry\"</td>\n",
       "      <td>0/0</td>\n",
       "      <td>5.0</td>\n",
       "      <td>1148688000</td>\n",
       "      <td>Two lovable characters, Esk and Granny</td>\n",
       "      <td>Esk is the eighth child of an eighth son. An a...</td>\n",
       "    </tr>\n",
       "  </tbody>\n",
       "</table>\n",
       "</div>"
      ],
      "text/plain": [
       "                 Id                                              Title  Price  \\\n",
       "156285   B000P3LVZA                                    Brave New World    NaN   \n",
       "621965   B0007DJSVW  The true believer: Thoughts on the nature of m...    NaN   \n",
       "908905   0786118490                                         Persuasion    NaN   \n",
       "1126939  1853268550                                         Persuasion    NaN   \n",
       "2340194  B000K1ZL1W                                        Equal Rites    NaN   \n",
       "\n",
       "                User_id             profileName review/helpfulness  \\\n",
       "156285              NaN                     NaN                0/0   \n",
       "621965    A6ATAUDS9UHXT           Charles Cieri                3/4   \n",
       "908905              NaN                     NaN                0/0   \n",
       "1126939  A3IK9XHM40V1RX           Courtney Rose                0/0   \n",
       "2340194  A3ADA4TND5VOY6  Charles G. Fry \"cgfry\"                0/0   \n",
       "\n",
       "         review/score  review/time  \\\n",
       "156285            5.0    881107200   \n",
       "621965            5.0   1275696000   \n",
       "908905            4.0    901411200   \n",
       "1126939           5.0   1341878400   \n",
       "2340194           5.0   1148688000   \n",
       "\n",
       "                                            review/summary  \\\n",
       "156285   Excellent book, he wrote 20 years ago what's h...   \n",
       "621965                   A must read for anyone who thinks   \n",
       "908905                                    Most mature work   \n",
       "1126939                                   A wonderful book   \n",
       "2340194             Two lovable characters, Esk and Granny   \n",
       "\n",
       "                                               review/text  \n",
       "156285   Aldou huxley was a remarkable writer. And perh...  \n",
       "621965   You'll think it was written in whatever year y...  \n",
       "908905   I found Persuasion to be the most mature of al...  \n",
       "1126939  I was very excited to find this as an ebook! I...  \n",
       "2340194  Esk is the eighth child of an eighth son. An a...  "
      ]
     },
     "execution_count": 18,
     "metadata": {},
     "output_type": "execute_result"
    }
   ],
   "source": [
    "#Inspecting the dataframe visually\n",
    "Book_rating.head()"
   ]
  },
  {
   "cell_type": "code",
   "execution_count": 19,
   "metadata": {
    "id": "BTuQw7Rbsio4"
   },
   "outputs": [
    {
     "data": {
      "text/plain": [
       "Index(['Id', 'Title', 'Price', 'User_id', 'profileName', 'review/helpfulness',\n",
       "       'review/score', 'review/time', 'review/summary', 'review/text'],\n",
       "      dtype='object')"
      ]
     },
     "execution_count": 19,
     "metadata": {},
     "output_type": "execute_result"
    }
   ],
   "source": [
    "#Inspecting the dataframe programmatically\n",
    "Book_rating.columns"
   ]
  },
  {
   "cell_type": "markdown",
   "metadata": {},
   "source": [
    "* Issue and justification: Ensuring each variable forms a column helps maintain a clear and analyzable dataset structure. as we noticed this issue is satisfied "
   ]
  },
  {
   "cell_type": "markdown",
   "metadata": {
    "id": "4ffMoRGSwzYj"
   },
   "source": [
    "### Tidiness Issue 2:  Each Type of Observational Unit Forms a Table"
   ]
  },
  {
   "cell_type": "code",
   "execution_count": 20,
   "metadata": {
    "id": "XUpeoqokw5Qt"
   },
   "outputs": [
    {
     "data": {
      "text/html": [
       "<div>\n",
       "<style scoped>\n",
       "    .dataframe tbody tr th:only-of-type {\n",
       "        vertical-align: middle;\n",
       "    }\n",
       "\n",
       "    .dataframe tbody tr th {\n",
       "        vertical-align: top;\n",
       "    }\n",
       "\n",
       "    .dataframe thead th {\n",
       "        text-align: right;\n",
       "    }\n",
       "</style>\n",
       "<table border=\"1\" class=\"dataframe\">\n",
       "  <thead>\n",
       "    <tr style=\"text-align: right;\">\n",
       "      <th></th>\n",
       "      <th>Id</th>\n",
       "      <th>Title</th>\n",
       "      <th>Price</th>\n",
       "      <th>User_id</th>\n",
       "      <th>profileName</th>\n",
       "      <th>review/helpfulness</th>\n",
       "      <th>review/score</th>\n",
       "      <th>review/time</th>\n",
       "      <th>review/summary</th>\n",
       "      <th>review/text</th>\n",
       "    </tr>\n",
       "  </thead>\n",
       "  <tbody>\n",
       "    <tr>\n",
       "      <th>2421340</th>\n",
       "      <td>014013591X</td>\n",
       "      <td>The Penguin History of the World, Revised Edition</td>\n",
       "      <td>NaN</td>\n",
       "      <td>A3HDHLMWYVZ99V</td>\n",
       "      <td>mann</td>\n",
       "      <td>0/0</td>\n",
       "      <td>5.0</td>\n",
       "      <td>1339286400</td>\n",
       "      <td>Great book to have</td>\n",
       "      <td>I love this book. I had it in the past, all ma...</td>\n",
       "    </tr>\n",
       "    <tr>\n",
       "      <th>815160</th>\n",
       "      <td>0596006454</td>\n",
       "      <td>Flash Hacks: 100 Industrial-Strength Tips &amp; Tools</td>\n",
       "      <td>18.96</td>\n",
       "      <td>A3Q32TOUXNR28P</td>\n",
       "      <td>peter sgouros \"circusboy\"</td>\n",
       "      <td>11/12</td>\n",
       "      <td>5.0</td>\n",
       "      <td>1113264000</td>\n",
       "      <td>Very Worthwhile!</td>\n",
       "      <td>This is a member of the Hacks series published...</td>\n",
       "    </tr>\n",
       "    <tr>\n",
       "      <th>2667962</th>\n",
       "      <td>B000GVI7JY</td>\n",
       "      <td>Cold Mountain</td>\n",
       "      <td>NaN</td>\n",
       "      <td>NaN</td>\n",
       "      <td>NaN</td>\n",
       "      <td>0/0</td>\n",
       "      <td>4.0</td>\n",
       "      <td>879292800</td>\n",
       "      <td>Devastating and dark</td>\n",
       "      <td>This book is beautifully written with wonderfu...</td>\n",
       "    </tr>\n",
       "    <tr>\n",
       "      <th>746273</th>\n",
       "      <td>0340707968</td>\n",
       "      <td>Return to Mars</td>\n",
       "      <td>NaN</td>\n",
       "      <td>A2R0A0XIGKIYGJ</td>\n",
       "      <td>Filthy Rich</td>\n",
       "      <td>3/3</td>\n",
       "      <td>3.0</td>\n",
       "      <td>976320000</td>\n",
       "      <td>This is not Mission to Mars</td>\n",
       "      <td>And thank god for small mercies. Though this s...</td>\n",
       "    </tr>\n",
       "    <tr>\n",
       "      <th>966606</th>\n",
       "      <td>096757370X</td>\n",
       "      <td>The Book of Enoch</td>\n",
       "      <td>34.95</td>\n",
       "      <td>A2UL8H58RDBJL</td>\n",
       "      <td>J. Jacksonrencher \"light channel\"</td>\n",
       "      <td>2/6</td>\n",
       "      <td>5.0</td>\n",
       "      <td>1162771200</td>\n",
       "      <td>Awesome!!! No Wonder they tried to hide it!</td>\n",
       "      <td>It is awesome, the Holy Scriptures Useful to e...</td>\n",
       "    </tr>\n",
       "  </tbody>\n",
       "</table>\n",
       "</div>"
      ],
      "text/plain": [
       "                 Id                                              Title  Price  \\\n",
       "2421340  014013591X  The Penguin History of the World, Revised Edition    NaN   \n",
       "815160   0596006454  Flash Hacks: 100 Industrial-Strength Tips & Tools  18.96   \n",
       "2667962  B000GVI7JY                                      Cold Mountain    NaN   \n",
       "746273   0340707968                                     Return to Mars    NaN   \n",
       "966606   096757370X                                  The Book of Enoch  34.95   \n",
       "\n",
       "                User_id                        profileName review/helpfulness  \\\n",
       "2421340  A3HDHLMWYVZ99V                               mann                0/0   \n",
       "815160   A3Q32TOUXNR28P          peter sgouros \"circusboy\"              11/12   \n",
       "2667962             NaN                                NaN                0/0   \n",
       "746273   A2R0A0XIGKIYGJ                        Filthy Rich                3/3   \n",
       "966606    A2UL8H58RDBJL  J. Jacksonrencher \"light channel\"                2/6   \n",
       "\n",
       "         review/score  review/time  \\\n",
       "2421340           5.0   1339286400   \n",
       "815160            5.0   1113264000   \n",
       "2667962           4.0    879292800   \n",
       "746273            3.0    976320000   \n",
       "966606            5.0   1162771200   \n",
       "\n",
       "                                      review/summary  \\\n",
       "2421340                           Great book to have   \n",
       "815160                              Very Worthwhile!   \n",
       "2667962                         Devastating and dark   \n",
       "746273                   This is not Mission to Mars   \n",
       "966606   Awesome!!! No Wonder they tried to hide it!   \n",
       "\n",
       "                                               review/text  \n",
       "2421340  I love this book. I had it in the past, all ma...  \n",
       "815160   This is a member of the Hacks series published...  \n",
       "2667962  This book is beautifully written with wonderfu...  \n",
       "746273   And thank god for small mercies. Though this s...  \n",
       "966606   It is awesome, the Holy Scriptures Useful to e...  "
      ]
     },
     "execution_count": 20,
     "metadata": {},
     "output_type": "execute_result"
    }
   ],
   "source": [
    "#Inspecting the dataframe visually\n",
    "Book_rating.sample(n=5)"
   ]
  },
  {
   "cell_type": "code",
   "execution_count": 21,
   "metadata": {
    "id": "c8JK4DoXxtFA"
   },
   "outputs": [
    {
     "name": "stdout",
     "output_type": "stream",
     "text": [
      "<class 'pandas.core.frame.DataFrame'>\n",
      "Index: 50000 entries, 156285 to 2289966\n",
      "Data columns (total 10 columns):\n",
      " #   Column              Non-Null Count  Dtype  \n",
      "---  ------              --------------  -----  \n",
      " 0   Id                  50000 non-null  object \n",
      " 1   Title               49995 non-null  object \n",
      " 2   Price               7896 non-null   float64\n",
      " 3   User_id             40585 non-null  object \n",
      " 4   profileName         40583 non-null  object \n",
      " 5   review/helpfulness  50000 non-null  object \n",
      " 6   review/score        50000 non-null  float64\n",
      " 7   review/time         50000 non-null  int64  \n",
      " 8   review/summary      49994 non-null  object \n",
      " 9   review/text         50000 non-null  object \n",
      "dtypes: float64(2), int64(1), object(7)\n",
      "memory usage: 4.2+ MB\n"
     ]
    }
   ],
   "source": [
    "#Inspecting the dataframe programmatically\n",
    "Book_rating.info()"
   ]
  },
  {
   "cell_type": "markdown",
   "metadata": {},
   "source": [
    "* Issue and justification:  Ensuring that each type of observational unit forms a separate table prevents mixing different types of data, which can complicate analysis."
   ]
  },
  {
   "cell_type": "markdown",
   "metadata": {},
   "source": [
    "## Dataset 2 : Book_data \n"
   ]
  },
  {
   "cell_type": "markdown",
   "metadata": {},
   "source": [
    "### Quality Issue 1: consistency\n"
   ]
  },
  {
   "cell_type": "code",
   "execution_count": 22,
   "metadata": {},
   "outputs": [
    {
     "data": {
      "text/html": [
       "<div>\n",
       "<style scoped>\n",
       "    .dataframe tbody tr th:only-of-type {\n",
       "        vertical-align: middle;\n",
       "    }\n",
       "\n",
       "    .dataframe tbody tr th {\n",
       "        vertical-align: top;\n",
       "    }\n",
       "\n",
       "    .dataframe thead th {\n",
       "        text-align: right;\n",
       "    }\n",
       "</style>\n",
       "<table border=\"1\" class=\"dataframe\">\n",
       "  <thead>\n",
       "    <tr style=\"text-align: right;\">\n",
       "      <th></th>\n",
       "      <th>Title</th>\n",
       "      <th>description</th>\n",
       "      <th>authors</th>\n",
       "      <th>image</th>\n",
       "      <th>previewLink</th>\n",
       "      <th>publisher</th>\n",
       "      <th>publishedDate</th>\n",
       "      <th>infoLink</th>\n",
       "      <th>categories</th>\n",
       "      <th>ratingsCount</th>\n",
       "    </tr>\n",
       "  </thead>\n",
       "  <tbody>\n",
       "    <tr>\n",
       "      <th>0</th>\n",
       "      <td>Its Only Art If Its Well Hung!</td>\n",
       "      <td>NaN</td>\n",
       "      <td>['Julie Strain']</td>\n",
       "      <td>http://books.google.com/books/content?id=DykPA...</td>\n",
       "      <td>http://books.google.nl/books?id=DykPAAAACAAJ&amp;d...</td>\n",
       "      <td>NaN</td>\n",
       "      <td>1996</td>\n",
       "      <td>http://books.google.nl/books?id=DykPAAAACAAJ&amp;d...</td>\n",
       "      <td>['Comics &amp; Graphic Novels']</td>\n",
       "      <td>NaN</td>\n",
       "    </tr>\n",
       "    <tr>\n",
       "      <th>1</th>\n",
       "      <td>Dr. Seuss: American Icon</td>\n",
       "      <td>Philip Nel takes a fascinating look into the k...</td>\n",
       "      <td>['Philip Nel']</td>\n",
       "      <td>http://books.google.com/books/content?id=IjvHQ...</td>\n",
       "      <td>http://books.google.nl/books?id=IjvHQsCn_pgC&amp;p...</td>\n",
       "      <td>A&amp;C Black</td>\n",
       "      <td>2005-01-01</td>\n",
       "      <td>http://books.google.nl/books?id=IjvHQsCn_pgC&amp;d...</td>\n",
       "      <td>['Biography &amp; Autobiography']</td>\n",
       "      <td>NaN</td>\n",
       "    </tr>\n",
       "    <tr>\n",
       "      <th>2</th>\n",
       "      <td>Wonderful Worship in Smaller Churches</td>\n",
       "      <td>This resource includes twelve principles in un...</td>\n",
       "      <td>['David R. Ray']</td>\n",
       "      <td>http://books.google.com/books/content?id=2tsDA...</td>\n",
       "      <td>http://books.google.nl/books?id=2tsDAAAACAAJ&amp;d...</td>\n",
       "      <td>NaN</td>\n",
       "      <td>2000</td>\n",
       "      <td>http://books.google.nl/books?id=2tsDAAAACAAJ&amp;d...</td>\n",
       "      <td>['Religion']</td>\n",
       "      <td>NaN</td>\n",
       "    </tr>\n",
       "    <tr>\n",
       "      <th>3</th>\n",
       "      <td>Whispers of the Wicked Saints</td>\n",
       "      <td>Julia Thomas finds her life spinning out of co...</td>\n",
       "      <td>['Veronica Haddon']</td>\n",
       "      <td>http://books.google.com/books/content?id=aRSIg...</td>\n",
       "      <td>http://books.google.nl/books?id=aRSIgJlq6JwC&amp;d...</td>\n",
       "      <td>iUniverse</td>\n",
       "      <td>2005-02</td>\n",
       "      <td>http://books.google.nl/books?id=aRSIgJlq6JwC&amp;d...</td>\n",
       "      <td>['Fiction']</td>\n",
       "      <td>NaN</td>\n",
       "    </tr>\n",
       "    <tr>\n",
       "      <th>4</th>\n",
       "      <td>Nation Dance: Religion, Identity and Cultural ...</td>\n",
       "      <td>NaN</td>\n",
       "      <td>['Edward Long']</td>\n",
       "      <td>NaN</td>\n",
       "      <td>http://books.google.nl/books?id=399SPgAACAAJ&amp;d...</td>\n",
       "      <td>NaN</td>\n",
       "      <td>2003-03-01</td>\n",
       "      <td>http://books.google.nl/books?id=399SPgAACAAJ&amp;d...</td>\n",
       "      <td>NaN</td>\n",
       "      <td>NaN</td>\n",
       "    </tr>\n",
       "  </tbody>\n",
       "</table>\n",
       "</div>"
      ],
      "text/plain": [
       "                                               Title  \\\n",
       "0                     Its Only Art If Its Well Hung!   \n",
       "1                           Dr. Seuss: American Icon   \n",
       "2              Wonderful Worship in Smaller Churches   \n",
       "3                      Whispers of the Wicked Saints   \n",
       "4  Nation Dance: Religion, Identity and Cultural ...   \n",
       "\n",
       "                                         description              authors  \\\n",
       "0                                                NaN     ['Julie Strain']   \n",
       "1  Philip Nel takes a fascinating look into the k...       ['Philip Nel']   \n",
       "2  This resource includes twelve principles in un...     ['David R. Ray']   \n",
       "3  Julia Thomas finds her life spinning out of co...  ['Veronica Haddon']   \n",
       "4                                                NaN      ['Edward Long']   \n",
       "\n",
       "                                               image  \\\n",
       "0  http://books.google.com/books/content?id=DykPA...   \n",
       "1  http://books.google.com/books/content?id=IjvHQ...   \n",
       "2  http://books.google.com/books/content?id=2tsDA...   \n",
       "3  http://books.google.com/books/content?id=aRSIg...   \n",
       "4                                                NaN   \n",
       "\n",
       "                                         previewLink  publisher publishedDate  \\\n",
       "0  http://books.google.nl/books?id=DykPAAAACAAJ&d...        NaN          1996   \n",
       "1  http://books.google.nl/books?id=IjvHQsCn_pgC&p...  A&C Black    2005-01-01   \n",
       "2  http://books.google.nl/books?id=2tsDAAAACAAJ&d...        NaN          2000   \n",
       "3  http://books.google.nl/books?id=aRSIgJlq6JwC&d...  iUniverse       2005-02   \n",
       "4  http://books.google.nl/books?id=399SPgAACAAJ&d...        NaN    2003-03-01   \n",
       "\n",
       "                                            infoLink  \\\n",
       "0  http://books.google.nl/books?id=DykPAAAACAAJ&d...   \n",
       "1  http://books.google.nl/books?id=IjvHQsCn_pgC&d...   \n",
       "2  http://books.google.nl/books?id=2tsDAAAACAAJ&d...   \n",
       "3  http://books.google.nl/books?id=aRSIgJlq6JwC&d...   \n",
       "4  http://books.google.nl/books?id=399SPgAACAAJ&d...   \n",
       "\n",
       "                      categories  ratingsCount  \n",
       "0    ['Comics & Graphic Novels']           NaN  \n",
       "1  ['Biography & Autobiography']           NaN  \n",
       "2                   ['Religion']           NaN  \n",
       "3                    ['Fiction']           NaN  \n",
       "4                            NaN           NaN  "
      ]
     },
     "execution_count": 22,
     "metadata": {},
     "output_type": "execute_result"
    }
   ],
   "source": [
    "#Inspecting the dataframe visually\n",
    "book_data.head()"
   ]
  },
  {
   "cell_type": "code",
   "execution_count": 23,
   "metadata": {},
   "outputs": [
    {
     "name": "stdout",
     "output_type": "stream",
     "text": [
      "<class 'pandas.core.frame.DataFrame'>\n",
      "RangeIndex: 212404 entries, 0 to 212403\n",
      "Data columns (total 10 columns):\n",
      " #   Column         Non-Null Count   Dtype  \n",
      "---  ------         --------------   -----  \n",
      " 0   Title          212403 non-null  object \n",
      " 1   description    143962 non-null  object \n",
      " 2   authors        180991 non-null  object \n",
      " 3   image          160329 non-null  object \n",
      " 4   previewLink    188568 non-null  object \n",
      " 5   publisher      136518 non-null  object \n",
      " 6   publishedDate  187099 non-null  object \n",
      " 7   infoLink       188568 non-null  object \n",
      " 8   categories     171205 non-null  object \n",
      " 9   ratingsCount   49752 non-null   float64\n",
      "dtypes: float64(1), object(9)\n",
      "memory usage: 16.2+ MB\n",
      "Values not in proper date format:\n",
      "       publishedDate\n",
      "0               1996\n",
      "2               2000\n",
      "3            2005-02\n",
      "5               1996\n",
      "6               1960\n",
      "...              ...\n",
      "212393           NaN\n",
      "212395           NaN\n",
      "212396           NaN\n",
      "212398       2016-03\n",
      "212400          1995\n",
      "\n",
      "[127599 rows x 1 columns]\n"
     ]
    }
   ],
   "source": [
    "book_data.info()\n",
    "\n",
    "def check_date_format(value, date_format=\"%Y-%m-%d\"):\n",
    "    try:\n",
    "        datetime.strptime(value, date_format)\n",
    "        return True\n",
    "    except (ValueError, TypeError):\n",
    "        return False\n",
    "\n",
    "# Check the 'publishedDate' column\n",
    "valid_date_format = book_data['publishedDate'].apply(lambda x: check_date_format(x, \"%Y-%m-%d\"))\n",
    "\n",
    "# Find and print values not in proper date format\n",
    "invalid_dates = book_data[~valid_date_format]\n",
    "\n",
    "print(\"Values not in proper date format:\")\n",
    "print(invalid_dates[['publishedDate']])"
   ]
  },
  {
   "cell_type": "markdown",
   "metadata": {},
   "source": [
    "*  issue:  publishedDate must be in datetime format (consistency Quality Issue)\n",
    "*  Justification: This method check if the publishedDate in datetime format or not  .\n",
    "\n"
   ]
  },
  {
   "cell_type": "markdown",
   "metadata": {},
   "source": [
    "### Quality Issue 2 : Uniqueness "
   ]
  },
  {
   "cell_type": "code",
   "execution_count": 24,
   "metadata": {
    "scrolled": true
   },
   "outputs": [
    {
     "data": {
      "text/html": [
       "<div>\n",
       "<style scoped>\n",
       "    .dataframe tbody tr th:only-of-type {\n",
       "        vertical-align: middle;\n",
       "    }\n",
       "\n",
       "    .dataframe tbody tr th {\n",
       "        vertical-align: top;\n",
       "    }\n",
       "\n",
       "    .dataframe thead th {\n",
       "        text-align: right;\n",
       "    }\n",
       "</style>\n",
       "<table border=\"1\" class=\"dataframe\">\n",
       "  <thead>\n",
       "    <tr style=\"text-align: right;\">\n",
       "      <th></th>\n",
       "      <th>Title</th>\n",
       "      <th>description</th>\n",
       "      <th>authors</th>\n",
       "      <th>image</th>\n",
       "      <th>previewLink</th>\n",
       "      <th>publisher</th>\n",
       "      <th>publishedDate</th>\n",
       "      <th>infoLink</th>\n",
       "      <th>categories</th>\n",
       "      <th>ratingsCount</th>\n",
       "    </tr>\n",
       "  </thead>\n",
       "  <tbody>\n",
       "    <tr>\n",
       "      <th>3199</th>\n",
       "      <td>No Comebacks</td>\n",
       "      <td>Ten Stories from Frederick Forsyth with the Ma...</td>\n",
       "      <td>['Frederick Forsyth']</td>\n",
       "      <td>http://books.google.com/books/content?id=Ca4M3...</td>\n",
       "      <td>http://books.google.nl/books?id=Ca4M3dYkoc0C&amp;p...</td>\n",
       "      <td>Random House</td>\n",
       "      <td>2011-05-30</td>\n",
       "      <td>https://play.google.com/store/books/details?id...</td>\n",
       "      <td>['Fiction']</td>\n",
       "      <td>2.0</td>\n",
       "    </tr>\n",
       "    <tr>\n",
       "      <th>2147</th>\n",
       "      <td>Portraits from life: Memories and criticisms o...</td>\n",
       "      <td>NaN</td>\n",
       "      <td>['Ford Madox Ford']</td>\n",
       "      <td>http://books.google.com/books/content?id=I9RZA...</td>\n",
       "      <td>http://books.google.nl/books?id=I9RZAAAAMAAJ&amp;p...</td>\n",
       "      <td>NaN</td>\n",
       "      <td>1937</td>\n",
       "      <td>https://play.google.com/store/books/details?id...</td>\n",
       "      <td>['Authors, American']</td>\n",
       "      <td>2.0</td>\n",
       "    </tr>\n",
       "    <tr>\n",
       "      <th>13811</th>\n",
       "      <td>Gathering the Light</td>\n",
       "      <td>When mattie Gokey is given a bundle of letters...</td>\n",
       "      <td>['Jennifer Donnelly']</td>\n",
       "      <td>http://books.google.com/books/content?id=fvyqC...</td>\n",
       "      <td>http://books.google.nl/books?id=fvyqCgAAQBAJ&amp;p...</td>\n",
       "      <td>Bloomsbury Publishing</td>\n",
       "      <td>2015-11-05</td>\n",
       "      <td>https://play.google.com/store/books/details?id...</td>\n",
       "      <td>['Young Adult Fiction']</td>\n",
       "      <td>NaN</td>\n",
       "    </tr>\n",
       "    <tr>\n",
       "      <th>35565</th>\n",
       "      <td>PRAXIS/CST Business Education Teaching Area Ex...</td>\n",
       "      <td>This is a timely and affordable study guide fo...</td>\n",
       "      <td>['Sharon Wynne']</td>\n",
       "      <td>http://books.google.com/books/content?id=Ph9-r...</td>\n",
       "      <td>http://books.google.com/books?id=Ph9-rgEACAAJ&amp;...</td>\n",
       "      <td>Xamonline</td>\n",
       "      <td>2015-09-01</td>\n",
       "      <td>http://books.google.com/books?id=Ph9-rgEACAAJ&amp;...</td>\n",
       "      <td>['Study Aids']</td>\n",
       "      <td>NaN</td>\n",
       "    </tr>\n",
       "    <tr>\n",
       "      <th>190341</th>\n",
       "      <td>Following Civil War Photographers</td>\n",
       "      <td>Published to coincide with the 150th anniverar...</td>\n",
       "      <td>['Jeff L. Rosenheim', 'Gibbes Museum of Art (C...</td>\n",
       "      <td>http://books.google.com/books/content?id=0jhb_...</td>\n",
       "      <td>http://books.google.com/books?id=0jhb_s3dcPgC&amp;...</td>\n",
       "      <td>Metropolitan Museum of Art</td>\n",
       "      <td>2013-05-07</td>\n",
       "      <td>http://books.google.com/books?id=0jhb_s3dcPgC&amp;...</td>\n",
       "      <td>['History']</td>\n",
       "      <td>NaN</td>\n",
       "    </tr>\n",
       "    <tr>\n",
       "      <th>39961</th>\n",
       "      <td>Lost World (Alien Voices)</td>\n",
       "      <td>Windows On A Lost World While Captain Kirk and...</td>\n",
       "      <td>['V.E. Mitchell']</td>\n",
       "      <td>http://books.google.com/books/content?id=CSl0t...</td>\n",
       "      <td>http://books.google.com/books?id=CSl0tsP3nj4C&amp;...</td>\n",
       "      <td>Simon and Schuster</td>\n",
       "      <td>2000-09-22</td>\n",
       "      <td>https://play.google.com/store/books/details?id...</td>\n",
       "      <td>['Fiction']</td>\n",
       "      <td>NaN</td>\n",
       "    </tr>\n",
       "    <tr>\n",
       "      <th>48320</th>\n",
       "      <td>Cowboy Culture: A Saga of Five Centuries</td>\n",
       "      <td>A colorful account of five centuries of cowboy...</td>\n",
       "      <td>['David Dary']</td>\n",
       "      <td>http://books.google.com/books/content?id=S00OA...</td>\n",
       "      <td>http://books.google.com/books?id=S00OAQAAMAAJ&amp;...</td>\n",
       "      <td>NaN</td>\n",
       "      <td>1989</td>\n",
       "      <td>http://books.google.com/books?id=S00OAQAAMAAJ&amp;...</td>\n",
       "      <td>['History']</td>\n",
       "      <td>NaN</td>\n",
       "    </tr>\n",
       "    <tr>\n",
       "      <th>170076</th>\n",
       "      <td>In God's Care: Daily Meditations on Spirituali...</td>\n",
       "      <td>True, lasting recovery requires us to create a...</td>\n",
       "      <td>['Karen Casey', 'Homer Pyle']</td>\n",
       "      <td>http://books.google.com/books/content?id=ajnXD...</td>\n",
       "      <td>http://books.google.com/books?id=ajnXDQAAQBAJ&amp;...</td>\n",
       "      <td>Simon and Schuster</td>\n",
       "      <td>2009-11-10</td>\n",
       "      <td>https://play.google.com/store/books/details?id...</td>\n",
       "      <td>['Self-Help']</td>\n",
       "      <td>NaN</td>\n",
       "    </tr>\n",
       "    <tr>\n",
       "      <th>77034</th>\n",
       "      <td>Small-Cap Dynamics: Insights, Analysis, and Mo...</td>\n",
       "      <td>Small-cap stocks have long been instrumental i...</td>\n",
       "      <td>['Satya Dev Pradhuman']</td>\n",
       "      <td>http://books.google.com/books/content?id=Jiq5w...</td>\n",
       "      <td>http://books.google.com/books?id=Jiq5wAEACAAJ&amp;...</td>\n",
       "      <td>Bloomberg Press</td>\n",
       "      <td>2000-09-01</td>\n",
       "      <td>http://books.google.com/books?id=Jiq5wAEACAAJ&amp;...</td>\n",
       "      <td>['Business &amp; Economics']</td>\n",
       "      <td>NaN</td>\n",
       "    </tr>\n",
       "    <tr>\n",
       "      <th>136671</th>\n",
       "      <td>Africa's Elephant: A Biography</td>\n",
       "      <td>\"Yet elephant history has been dominated by pe...</td>\n",
       "      <td>['Martin Meredith']</td>\n",
       "      <td>http://books.google.com/books/content?id=VmmmH...</td>\n",
       "      <td>http://books.google.com/books?id=VmmmHAAACAAJ&amp;...</td>\n",
       "      <td>NaN</td>\n",
       "      <td>2001</td>\n",
       "      <td>http://books.google.com/books?id=VmmmHAAACAAJ&amp;...</td>\n",
       "      <td>['Elephants']</td>\n",
       "      <td>NaN</td>\n",
       "    </tr>\n",
       "    <tr>\n",
       "      <th>150997</th>\n",
       "      <td>Living Your Past Lives: The Psychology of Past...</td>\n",
       "      <td>Could the cause of your struggles be hidden in...</td>\n",
       "      <td>['Karl Schlotterbeck']</td>\n",
       "      <td>http://books.google.com/books/content?id=jOepU...</td>\n",
       "      <td>http://books.google.com/books?id=jOepUl1GyO8C&amp;...</td>\n",
       "      <td>iUniverse</td>\n",
       "      <td>2003</td>\n",
       "      <td>http://books.google.com/books?id=jOepUl1GyO8C&amp;...</td>\n",
       "      <td>['Body, Mind &amp; Spirit']</td>\n",
       "      <td>NaN</td>\n",
       "    </tr>\n",
       "    <tr>\n",
       "      <th>140230</th>\n",
       "      <td>At Last the Truth About Eichmann's Inferno, Au...</td>\n",
       "      <td>Provides background information on Anne Frank ...</td>\n",
       "      <td>['Betty Merti']</td>\n",
       "      <td>http://books.google.com/books/content?id=k4c8K...</td>\n",
       "      <td>http://books.google.com/books?id=k4c8KiSX9x4C&amp;...</td>\n",
       "      <td>Walch Publishing</td>\n",
       "      <td>1998</td>\n",
       "      <td>http://books.google.com/books?id=k4c8KiSX9x4C&amp;...</td>\n",
       "      <td>['Biography &amp; Autobiography']</td>\n",
       "      <td>2.0</td>\n",
       "    </tr>\n",
       "    <tr>\n",
       "      <th>127363</th>\n",
       "      <td>Passages to Freedom: The Underground Railroad ...</td>\n",
       "      <td>Looks at the history of the Underground Railro...</td>\n",
       "      <td>['David W. Blight']</td>\n",
       "      <td>http://books.google.com/books/content?id=cHqks...</td>\n",
       "      <td>http://books.google.nl/books?id=cHqkswEACAAJ&amp;d...</td>\n",
       "      <td>Smithsonian Inst Press</td>\n",
       "      <td>2004</td>\n",
       "      <td>http://books.google.nl/books?id=cHqkswEACAAJ&amp;d...</td>\n",
       "      <td>['History']</td>\n",
       "      <td>NaN</td>\n",
       "    </tr>\n",
       "    <tr>\n",
       "      <th>47537</th>\n",
       "      <td>The Tour De France, 1903-2003: A Century of Sp...</td>\n",
       "      <td>This book analyses the Tour de France over its...</td>\n",
       "      <td>['Hugh Dauncey', 'Geoff Hare']</td>\n",
       "      <td>http://books.google.com/books/content?id=8zXIY...</td>\n",
       "      <td>http://books.google.com/books?id=8zXIYTnkxAIC&amp;...</td>\n",
       "      <td>Routledge</td>\n",
       "      <td>2004-08-02</td>\n",
       "      <td>http://books.google.com/books?id=8zXIYTnkxAIC&amp;...</td>\n",
       "      <td>['Social Science']</td>\n",
       "      <td>NaN</td>\n",
       "    </tr>\n",
       "    <tr>\n",
       "      <th>27356</th>\n",
       "      <td>Toddlers Make Music! Ones and Twos! For Parent...</td>\n",
       "      <td>Outlines storytelling programs for young libra...</td>\n",
       "      <td>['Judy Nichols']</td>\n",
       "      <td>http://books.google.com/books/content?id=v8yED...</td>\n",
       "      <td>http://books.google.com/books?id=v8yEDeWFvHgC&amp;...</td>\n",
       "      <td>American Library Association</td>\n",
       "      <td>2007</td>\n",
       "      <td>https://play.google.com/store/books/details?id...</td>\n",
       "      <td>['Education']</td>\n",
       "      <td>1.0</td>\n",
       "    </tr>\n",
       "  </tbody>\n",
       "</table>\n",
       "</div>"
      ],
      "text/plain": [
       "                                                    Title  \\\n",
       "3199                                         No Comebacks   \n",
       "2147    Portraits from life: Memories and criticisms o...   \n",
       "13811                                 Gathering the Light   \n",
       "35565   PRAXIS/CST Business Education Teaching Area Ex...   \n",
       "190341                  Following Civil War Photographers   \n",
       "39961                           Lost World (Alien Voices)   \n",
       "48320            Cowboy Culture: A Saga of Five Centuries   \n",
       "170076  In God's Care: Daily Meditations on Spirituali...   \n",
       "77034   Small-Cap Dynamics: Insights, Analysis, and Mo...   \n",
       "136671                     Africa's Elephant: A Biography   \n",
       "150997  Living Your Past Lives: The Psychology of Past...   \n",
       "140230  At Last the Truth About Eichmann's Inferno, Au...   \n",
       "127363  Passages to Freedom: The Underground Railroad ...   \n",
       "47537   The Tour De France, 1903-2003: A Century of Sp...   \n",
       "27356   Toddlers Make Music! Ones and Twos! For Parent...   \n",
       "\n",
       "                                              description  \\\n",
       "3199    Ten Stories from Frederick Forsyth with the Ma...   \n",
       "2147                                                  NaN   \n",
       "13811   When mattie Gokey is given a bundle of letters...   \n",
       "35565   This is a timely and affordable study guide fo...   \n",
       "190341  Published to coincide with the 150th anniverar...   \n",
       "39961   Windows On A Lost World While Captain Kirk and...   \n",
       "48320   A colorful account of five centuries of cowboy...   \n",
       "170076  True, lasting recovery requires us to create a...   \n",
       "77034   Small-cap stocks have long been instrumental i...   \n",
       "136671  \"Yet elephant history has been dominated by pe...   \n",
       "150997  Could the cause of your struggles be hidden in...   \n",
       "140230  Provides background information on Anne Frank ...   \n",
       "127363  Looks at the history of the Underground Railro...   \n",
       "47537   This book analyses the Tour de France over its...   \n",
       "27356   Outlines storytelling programs for young libra...   \n",
       "\n",
       "                                                  authors  \\\n",
       "3199                                ['Frederick Forsyth']   \n",
       "2147                                  ['Ford Madox Ford']   \n",
       "13811                               ['Jennifer Donnelly']   \n",
       "35565                                    ['Sharon Wynne']   \n",
       "190341  ['Jeff L. Rosenheim', 'Gibbes Museum of Art (C...   \n",
       "39961                                   ['V.E. Mitchell']   \n",
       "48320                                      ['David Dary']   \n",
       "170076                      ['Karen Casey', 'Homer Pyle']   \n",
       "77034                             ['Satya Dev Pradhuman']   \n",
       "136671                                ['Martin Meredith']   \n",
       "150997                             ['Karl Schlotterbeck']   \n",
       "140230                                    ['Betty Merti']   \n",
       "127363                                ['David W. Blight']   \n",
       "47537                      ['Hugh Dauncey', 'Geoff Hare']   \n",
       "27356                                    ['Judy Nichols']   \n",
       "\n",
       "                                                    image  \\\n",
       "3199    http://books.google.com/books/content?id=Ca4M3...   \n",
       "2147    http://books.google.com/books/content?id=I9RZA...   \n",
       "13811   http://books.google.com/books/content?id=fvyqC...   \n",
       "35565   http://books.google.com/books/content?id=Ph9-r...   \n",
       "190341  http://books.google.com/books/content?id=0jhb_...   \n",
       "39961   http://books.google.com/books/content?id=CSl0t...   \n",
       "48320   http://books.google.com/books/content?id=S00OA...   \n",
       "170076  http://books.google.com/books/content?id=ajnXD...   \n",
       "77034   http://books.google.com/books/content?id=Jiq5w...   \n",
       "136671  http://books.google.com/books/content?id=VmmmH...   \n",
       "150997  http://books.google.com/books/content?id=jOepU...   \n",
       "140230  http://books.google.com/books/content?id=k4c8K...   \n",
       "127363  http://books.google.com/books/content?id=cHqks...   \n",
       "47537   http://books.google.com/books/content?id=8zXIY...   \n",
       "27356   http://books.google.com/books/content?id=v8yED...   \n",
       "\n",
       "                                              previewLink  \\\n",
       "3199    http://books.google.nl/books?id=Ca4M3dYkoc0C&p...   \n",
       "2147    http://books.google.nl/books?id=I9RZAAAAMAAJ&p...   \n",
       "13811   http://books.google.nl/books?id=fvyqCgAAQBAJ&p...   \n",
       "35565   http://books.google.com/books?id=Ph9-rgEACAAJ&...   \n",
       "190341  http://books.google.com/books?id=0jhb_s3dcPgC&...   \n",
       "39961   http://books.google.com/books?id=CSl0tsP3nj4C&...   \n",
       "48320   http://books.google.com/books?id=S00OAQAAMAAJ&...   \n",
       "170076  http://books.google.com/books?id=ajnXDQAAQBAJ&...   \n",
       "77034   http://books.google.com/books?id=Jiq5wAEACAAJ&...   \n",
       "136671  http://books.google.com/books?id=VmmmHAAACAAJ&...   \n",
       "150997  http://books.google.com/books?id=jOepUl1GyO8C&...   \n",
       "140230  http://books.google.com/books?id=k4c8KiSX9x4C&...   \n",
       "127363  http://books.google.nl/books?id=cHqkswEACAAJ&d...   \n",
       "47537   http://books.google.com/books?id=8zXIYTnkxAIC&...   \n",
       "27356   http://books.google.com/books?id=v8yEDeWFvHgC&...   \n",
       "\n",
       "                           publisher publishedDate  \\\n",
       "3199                    Random House    2011-05-30   \n",
       "2147                             NaN          1937   \n",
       "13811          Bloomsbury Publishing    2015-11-05   \n",
       "35565                      Xamonline    2015-09-01   \n",
       "190341    Metropolitan Museum of Art    2013-05-07   \n",
       "39961             Simon and Schuster    2000-09-22   \n",
       "48320                            NaN          1989   \n",
       "170076            Simon and Schuster    2009-11-10   \n",
       "77034                Bloomberg Press    2000-09-01   \n",
       "136671                           NaN          2001   \n",
       "150997                     iUniverse          2003   \n",
       "140230              Walch Publishing          1998   \n",
       "127363        Smithsonian Inst Press          2004   \n",
       "47537                      Routledge    2004-08-02   \n",
       "27356   American Library Association          2007   \n",
       "\n",
       "                                                 infoLink  \\\n",
       "3199    https://play.google.com/store/books/details?id...   \n",
       "2147    https://play.google.com/store/books/details?id...   \n",
       "13811   https://play.google.com/store/books/details?id...   \n",
       "35565   http://books.google.com/books?id=Ph9-rgEACAAJ&...   \n",
       "190341  http://books.google.com/books?id=0jhb_s3dcPgC&...   \n",
       "39961   https://play.google.com/store/books/details?id...   \n",
       "48320   http://books.google.com/books?id=S00OAQAAMAAJ&...   \n",
       "170076  https://play.google.com/store/books/details?id...   \n",
       "77034   http://books.google.com/books?id=Jiq5wAEACAAJ&...   \n",
       "136671  http://books.google.com/books?id=VmmmHAAACAAJ&...   \n",
       "150997  http://books.google.com/books?id=jOepUl1GyO8C&...   \n",
       "140230  http://books.google.com/books?id=k4c8KiSX9x4C&...   \n",
       "127363  http://books.google.nl/books?id=cHqkswEACAAJ&d...   \n",
       "47537   http://books.google.com/books?id=8zXIYTnkxAIC&...   \n",
       "27356   https://play.google.com/store/books/details?id...   \n",
       "\n",
       "                           categories  ratingsCount  \n",
       "3199                      ['Fiction']           2.0  \n",
       "2147            ['Authors, American']           2.0  \n",
       "13811         ['Young Adult Fiction']           NaN  \n",
       "35565                  ['Study Aids']           NaN  \n",
       "190341                    ['History']           NaN  \n",
       "39961                     ['Fiction']           NaN  \n",
       "48320                     ['History']           NaN  \n",
       "170076                  ['Self-Help']           NaN  \n",
       "77034        ['Business & Economics']           NaN  \n",
       "136671                  ['Elephants']           NaN  \n",
       "150997        ['Body, Mind & Spirit']           NaN  \n",
       "140230  ['Biography & Autobiography']           2.0  \n",
       "127363                    ['History']           NaN  \n",
       "47537              ['Social Science']           NaN  \n",
       "27356                   ['Education']           1.0  "
      ]
     },
     "execution_count": 24,
     "metadata": {},
     "output_type": "execute_result"
    }
   ],
   "source": [
    "#Inspecting the dataframe visually\n",
    "book_data.sample(n=15)"
   ]
  },
  {
   "cell_type": "code",
   "execution_count": 25,
   "metadata": {},
   "outputs": [
    {
     "data": {
      "text/plain": [
       "0"
      ]
     },
     "execution_count": 25,
     "metadata": {},
     "output_type": "execute_result"
    }
   ],
   "source": [
    "#Inspecting the dataframe programmatically\n",
    "book_data.duplicated().sum()"
   ]
  },
  {
   "cell_type": "markdown",
   "metadata": {},
   "source": [
    "* Issue and justification : We can't visually assess uniqueness its difficult . The dataset might contain duplicate rows you can't noticed visually , but its easy to notice programmatically using .dublicated() method "
   ]
  },
  {
   "cell_type": "markdown",
   "metadata": {
    "id": "D6gmLnBttpCh"
   },
   "source": [
    "## 3. Clean data\n",
    "Clean the data to solve the 4 issues corresponding to data quality and tidiness found in the assessing step. **Make sure you include justifications for your cleaning decisions.**\n",
    "\n",
    "After the cleaning for each issue, please use **either** the visually or programatical method to validate the cleaning was succesful.\n",
    "\n",
    "At this stage, you are also expected to remove variables that are unnecessary for your analysis and combine your datasets. Depending on your datasets, you may choose to perform variable combination and elimination before or after the cleaning stage. Your dataset must have **at least** 4 variables after combining the data."
   ]
  },
  {
   "cell_type": "code",
   "execution_count": 27,
   "metadata": {},
   "outputs": [],
   "source": [
    "rate_copy=Book_rating.copy()\n",
    "book_copy=book_data.copy()"
   ]
  },
  {
   "cell_type": "markdown",
   "metadata": {
    "id": "FmFhN52Yyn3l"
   },
   "source": [
    "###  Quality Issue 1: Completeness for Book_rating Dataset "
   ]
  },
  {
   "cell_type": "code",
   "execution_count": 28,
   "metadata": {
    "id": "9UejDWrNMW4a"
   },
   "outputs": [
    {
     "data": {
      "text/plain": [
       "Id                     0.000\n",
       "Title                  0.010\n",
       "Price                 84.208\n",
       "User_id               18.830\n",
       "profileName           18.834\n",
       "review/helpfulness     0.000\n",
       "review/score           0.000\n",
       "review/time            0.000\n",
       "review/summary         0.012\n",
       "review/text            0.000\n",
       "dtype: float64"
      ]
     },
     "execution_count": 28,
     "metadata": {},
     "output_type": "execute_result"
    }
   ],
   "source": [
    "# Apply the cleaning strategy\n",
    "# check missing values and calculate the percentage in each column \n",
    "count_missing=rate_copy.isna().sum()\n",
    "percentage_missing = (count_missing / len(rate_copy)) * 100\n",
    "percentage_missing"
   ]
  },
  {
   "cell_type": "code",
   "execution_count": 29,
   "metadata": {},
   "outputs": [],
   "source": [
    "# fill NAN values in price column with mean \n",
    "rate_copy['Price'].fillna(rate_copy['Price'].mean(),inplace=True)\n",
    "# drop missing values from title , User_id , profileName , review/summary and review/text columns\n",
    "# Drop rows where any of the specified columns have missing values\n",
    "rate_copy = rate_copy.dropna(subset=['Title', 'User_id', 'profileName', 'review/summary', 'review/text'])"
   ]
  },
  {
   "cell_type": "code",
   "execution_count": 30,
   "metadata": {
    "id": "oUBee-LPytkv"
   },
   "outputs": [
    {
     "name": "stdout",
     "output_type": "stream",
     "text": [
      "Id                    0\n",
      "Title                 0\n",
      "Price                 0\n",
      "User_id               0\n",
      "profileName           0\n",
      "review/helpfulness    0\n",
      "review/score          0\n",
      "review/time           0\n",
      "review/summary        0\n",
      "review/text           0\n",
      "dtype: int64\n"
     ]
    }
   ],
   "source": [
    "#Validate the cleaning was successful\n",
    "count_missing=rate_copy.isna().sum()\n",
    "print(count_missing)"
   ]
  },
  {
   "cell_type": "markdown",
   "metadata": {},
   "source": [
    "* Justification: there is many missing values in price column insted of dropped it i used fillna() method to filled it with mean becaues its a numeric value , but in the other column there is a few NA values  dropna() used to drop missing value , finally i cleaned the data from NA values and use .isna().sum()to validate the cleaning was successful . "
   ]
  },
  {
   "cell_type": "markdown",
   "metadata": {
    "id": "n_DAUbJrymBL"
   },
   "source": [
    "### **Quality Issue 2: consistency in Book_rating dataset "
   ]
  },
  {
   "cell_type": "code",
   "execution_count": 31,
   "metadata": {
    "id": "5Yfb-Yu5MTuE"
   },
   "outputs": [],
   "source": [
    "#Apply the cleaning strategy\n",
    "rate_copy.drop('review/time',axis=1,inplace=True)"
   ]
  },
  {
   "cell_type": "code",
   "execution_count": 32,
   "metadata": {
    "id": "ionB2sRaMUmY"
   },
   "outputs": [
    {
     "name": "stdout",
     "output_type": "stream",
     "text": [
      "<class 'pandas.core.frame.DataFrame'>\n",
      "Index: 40572 entries, 621965 to 2289966\n",
      "Data columns (total 9 columns):\n",
      " #   Column              Non-Null Count  Dtype  \n",
      "---  ------              --------------  -----  \n",
      " 0   Id                  40572 non-null  object \n",
      " 1   Title               40572 non-null  object \n",
      " 2   Price               40572 non-null  float64\n",
      " 3   User_id             40572 non-null  object \n",
      " 4   profileName         40572 non-null  object \n",
      " 5   review/helpfulness  40572 non-null  object \n",
      " 6   review/score        40572 non-null  float64\n",
      " 7   review/summary      40572 non-null  object \n",
      " 8   review/text         40572 non-null  object \n",
      "dtypes: float64(2), object(7)\n",
      "memory usage: 3.1+ MB\n"
     ]
    }
   ],
   "source": [
    "#Validate the cleaning was successful\n",
    "rate_copy.info()"
   ]
  },
  {
   "cell_type": "markdown",
   "metadata": {},
   "source": [
    "Justification: after taking a look to review/time values all of them is integers values and cant convert to timestamp format so i use df.drop() and dropped a column due to inconsistent date on it ."
   ]
  },
  {
   "cell_type": "markdown",
   "metadata": {
    "id": "bIUrrfSNyOPR"
   },
   "source": [
    "### **Tidiness Issue 1:  Each Variable Forms a Column in Book_rating dataset **"
   ]
  },
  {
   "cell_type": "code",
   "execution_count": 33,
   "metadata": {
    "id": "fib0zAm333bn"
   },
   "outputs": [],
   "source": [
    "#Apply the cleaning strategy\n",
    "# change column names \n",
    "new_columns = ['Id', 'Title', 'Price' , 'User_id' , 'ProfileName' ,'reviewHelpfulness', 'reviewScore' , 'reviewSummary','reviewText']  \n",
    "rate_copy.columns = new_columns\n"
   ]
  },
  {
   "cell_type": "code",
   "execution_count": 34,
   "metadata": {
    "id": "yhrnUGY_Nk8B"
   },
   "outputs": [
    {
     "data": {
      "text/plain": [
       "Index(['Id', 'Title', 'Price', 'User_id', 'ProfileName', 'reviewHelpfulness',\n",
       "       'reviewScore', 'reviewSummary', 'reviewText'],\n",
       "      dtype='object')"
      ]
     },
     "execution_count": 34,
     "metadata": {},
     "output_type": "execute_result"
    }
   ],
   "source": [
    "#Validate the cleaning was successful\n",
    "rate_copy.columns"
   ]
  },
  {
   "cell_type": "markdown",
   "metadata": {},
   "source": [
    "Justification: renames the columns of the Book_rating dataset to ensure clarity and consistency. Each column name in the new_columns list corresponds to a specific variable or attribute related to book ratings and reviews. This approach improves the dataset's readability and adherence to tidy data principles by clearly defining and labeling each variable represented in the dataset."
   ]
  },
  {
   "cell_type": "markdown",
   "metadata": {
    "id": "o51Bt8kwyTzk"
   },
   "source": [
    "### Quality Issue 2: consistency in Book_data dataset"
   ]
  },
  {
   "cell_type": "code",
   "execution_count": 35,
   "metadata": {
    "id": "7zW8O5yx4Y9O",
    "scrolled": false
   },
   "outputs": [],
   "source": [
    "#Apply the cleaning strategy\n",
    "# Convert the 'publishedDate' column to datetime objects\n",
    "book_copy['publishedDate'] = pd.to_datetime(book_copy['publishedDate'], errors='coerce')\n",
    "# drop missing Dates from the column\n",
    "book_copy.dropna(subset=['publishedDate'], inplace=True)\n"
   ]
  },
  {
   "cell_type": "code",
   "execution_count": 36,
   "metadata": {
    "id": "q6I_Sr7lxXi5",
    "scrolled": true
   },
   "outputs": [
    {
     "name": "stdout",
     "output_type": "stream",
     "text": [
      "<class 'pandas.core.frame.DataFrame'>\n",
      "Index: 90951 entries, 0 to 212400\n",
      "Data columns (total 10 columns):\n",
      " #   Column         Non-Null Count  Dtype         \n",
      "---  ------         --------------  -----         \n",
      " 0   Title          90951 non-null  object        \n",
      " 1   description    55720 non-null  object        \n",
      " 2   authors        85324 non-null  object        \n",
      " 3   image          70252 non-null  object        \n",
      " 4   previewLink    90951 non-null  object        \n",
      " 5   publisher      50674 non-null  object        \n",
      " 6   publishedDate  90951 non-null  datetime64[ns]\n",
      " 7   infoLink       90951 non-null  object        \n",
      " 8   categories     82103 non-null  object        \n",
      " 9   ratingsCount   19061 non-null  float64       \n",
      "dtypes: datetime64[ns](1), float64(1), object(8)\n",
      "memory usage: 7.6+ MB\n"
     ]
    }
   ],
   "source": [
    "#FILL IN - Validate the cleaning was successful\n",
    "book_copy.info()"
   ]
  },
  {
   "cell_type": "markdown",
   "metadata": {},
   "source": [
    "Justification: Ensure that 'publishedDate' column has a consistent format."
   ]
  },
  {
   "cell_type": "markdown",
   "metadata": {},
   "source": [
    "## Extra cleaning process "
   ]
  },
  {
   "cell_type": "code",
   "execution_count": 37,
   "metadata": {},
   "outputs": [
    {
     "data": {
      "text/plain": [
       "Id                   0\n",
       "Title                0\n",
       "Price                0\n",
       "User_id              0\n",
       "ProfileName          0\n",
       "reviewHelpfulness    0\n",
       "reviewScore          0\n",
       "reviewSummary        0\n",
       "reviewText           0\n",
       "dtype: int64"
      ]
     },
     "execution_count": 37,
     "metadata": {},
     "output_type": "execute_result"
    }
   ],
   "source": [
    "#check missing in Book_rating dataset \n",
    "rate_copy.isna().sum()"
   ]
  },
  {
   "cell_type": "code",
   "execution_count": 38,
   "metadata": {},
   "outputs": [
    {
     "data": {
      "text/plain": [
       "7"
      ]
     },
     "execution_count": 38,
     "metadata": {},
     "output_type": "execute_result"
    }
   ],
   "source": [
    "# check duplicates in Book_rating dataset \n",
    "rate_copy.duplicated().sum()"
   ]
  },
  {
   "cell_type": "code",
   "execution_count": 39,
   "metadata": {},
   "outputs": [],
   "source": [
    "# remove duplicates from Book_rating dataset \n",
    "rate_copy.drop_duplicates(inplace=True)"
   ]
  },
  {
   "cell_type": "code",
   "execution_count": 40,
   "metadata": {},
   "outputs": [
    {
     "data": {
      "text/plain": [
       "0"
      ]
     },
     "execution_count": 40,
     "metadata": {},
     "output_type": "execute_result"
    }
   ],
   "source": [
    "# Ensure duplicated is removed from Book_rating dataset \n",
    "rate_copy.duplicated().sum()"
   ]
  },
  {
   "cell_type": "code",
   "execution_count": 41,
   "metadata": {},
   "outputs": [
    {
     "data": {
      "text/plain": [
       "Title             0.000000\n",
       "description      38.736243\n",
       "authors           6.186848\n",
       "image            22.758408\n",
       "previewLink       0.000000\n",
       "publisher        44.284285\n",
       "publishedDate     0.000000\n",
       "infoLink          0.000000\n",
       "categories        9.728315\n",
       "ratingsCount     79.042561\n",
       "dtype: float64"
      ]
     },
     "execution_count": 41,
     "metadata": {},
     "output_type": "execute_result"
    }
   ],
   "source": [
    "#check missing in book_data dataset and calculate percentage\n",
    "count_missing=book_copy.isna().sum()\n",
    "percentage_missing = (count_missing / len(book_copy)) * 100\n",
    "percentage_missing"
   ]
  },
  {
   "cell_type": "code",
   "execution_count": 42,
   "metadata": {},
   "outputs": [],
   "source": [
    "# fill NAN values in ratingsCount column with mean \n",
    "book_copy['ratingsCount'].fillna(book_copy['ratingsCount'].mean(),inplace=True)\n",
    "# drop missing values from description , authors, image , publisher and categories columns\n",
    "# Drop rows where any of the specified columns have missing values\n",
    "book_copy = book_copy.dropna(subset=['description' , 'authors', 'image' , 'publisher' , 'categories'])"
   ]
  },
  {
   "cell_type": "code",
   "execution_count": 43,
   "metadata": {},
   "outputs": [
    {
     "data": {
      "text/plain": [
       "Title            0\n",
       "description      0\n",
       "authors          0\n",
       "image            0\n",
       "previewLink      0\n",
       "publisher        0\n",
       "publishedDate    0\n",
       "infoLink         0\n",
       "categories       0\n",
       "ratingsCount     0\n",
       "dtype: int64"
      ]
     },
     "execution_count": 43,
     "metadata": {},
     "output_type": "execute_result"
    }
   ],
   "source": [
    "# Ensure NA values dropped from book_data \n",
    "book_copy.isna().sum()"
   ]
  },
  {
   "cell_type": "code",
   "execution_count": 44,
   "metadata": {},
   "outputs": [
    {
     "data": {
      "text/plain": [
       "0"
      ]
     },
     "execution_count": 44,
     "metadata": {},
     "output_type": "execute_result"
    }
   ],
   "source": [
    "# check duplucates in book_data\n",
    "book_copy.duplicated().sum()"
   ]
  },
  {
   "cell_type": "markdown",
   "metadata": {},
   "source": [
    "### **Remove unnecessary variables and combine datasets**\n",
    "\n",
    "Depending on the datasets, you can also peform the combination before the cleaning steps."
   ]
  },
  {
   "cell_type": "code",
   "execution_count": 45,
   "metadata": {},
   "outputs": [],
   "source": [
    "# image column seems unnecessary. The \"previewLink\" column is likely more useful and you can see image from it\n",
    "book_copy.drop({'image','description','previewLink','publisher','publishedDate','infoLink'},axis=1,inplace=True)"
   ]
  },
  {
   "cell_type": "code",
   "execution_count": 46,
   "metadata": {},
   "outputs": [],
   "source": [
    "#Remove unnecessary variables from Book_rating\n",
    "rate_copy.drop({'Id' , 'User_id','Price','ProfileName','reviewSummary','reviewHelpfulness'},axis=1,inplace=True)"
   ]
  },
  {
   "cell_type": "code",
   "execution_count": 47,
   "metadata": {},
   "outputs": [],
   "source": [
    "# combine datasets\n",
    "amazon_books=pd.merge(rate_copy,book_copy,on=\"Title\")\n"
   ]
  },
  {
   "cell_type": "code",
   "execution_count": 48,
   "metadata": {
    "scrolled": true
   },
   "outputs": [
    {
     "data": {
      "text/html": [
       "<div>\n",
       "<style scoped>\n",
       "    .dataframe tbody tr th:only-of-type {\n",
       "        vertical-align: middle;\n",
       "    }\n",
       "\n",
       "    .dataframe tbody tr th {\n",
       "        vertical-align: top;\n",
       "    }\n",
       "\n",
       "    .dataframe thead th {\n",
       "        text-align: right;\n",
       "    }\n",
       "</style>\n",
       "<table border=\"1\" class=\"dataframe\">\n",
       "  <thead>\n",
       "    <tr style=\"text-align: right;\">\n",
       "      <th></th>\n",
       "      <th>Title</th>\n",
       "      <th>reviewScore</th>\n",
       "      <th>reviewText</th>\n",
       "      <th>authors</th>\n",
       "      <th>categories</th>\n",
       "      <th>ratingsCount</th>\n",
       "    </tr>\n",
       "  </thead>\n",
       "  <tbody>\n",
       "    <tr>\n",
       "      <th>0</th>\n",
       "      <td>I Am Legend</td>\n",
       "      <td>5.0</td>\n",
       "      <td>That movie has been the best interpretation of...</td>\n",
       "      <td>['Richard Matheson']</td>\n",
       "      <td>['Horror tales']</td>\n",
       "      <td>200.0</td>\n",
       "    </tr>\n",
       "    <tr>\n",
       "      <th>1</th>\n",
       "      <td>I Am Legend</td>\n",
       "      <td>3.0</td>\n",
       "      <td>This started as an interesting lone-survivor/e...</td>\n",
       "      <td>['Richard Matheson']</td>\n",
       "      <td>['Horror tales']</td>\n",
       "      <td>200.0</td>\n",
       "    </tr>\n",
       "    <tr>\n",
       "      <th>2</th>\n",
       "      <td>I Am Legend</td>\n",
       "      <td>4.0</td>\n",
       "      <td>I bought this a few months ago, before the mov...</td>\n",
       "      <td>['Richard Matheson']</td>\n",
       "      <td>['Horror tales']</td>\n",
       "      <td>200.0</td>\n",
       "    </tr>\n",
       "    <tr>\n",
       "      <th>3</th>\n",
       "      <td>I Am Legend</td>\n",
       "      <td>5.0</td>\n",
       "      <td>This book is very well written. The lead story...</td>\n",
       "      <td>['Richard Matheson']</td>\n",
       "      <td>['Horror tales']</td>\n",
       "      <td>200.0</td>\n",
       "    </tr>\n",
       "    <tr>\n",
       "      <th>4</th>\n",
       "      <td>I Am Legend</td>\n",
       "      <td>5.0</td>\n",
       "      <td>Despite many new caricatures currently being d...</td>\n",
       "      <td>['Richard Matheson']</td>\n",
       "      <td>['Horror tales']</td>\n",
       "      <td>200.0</td>\n",
       "    </tr>\n",
       "  </tbody>\n",
       "</table>\n",
       "</div>"
      ],
      "text/plain": [
       "         Title  reviewScore  \\\n",
       "0  I Am Legend          5.0   \n",
       "1  I Am Legend          3.0   \n",
       "2  I Am Legend          4.0   \n",
       "3  I Am Legend          5.0   \n",
       "4  I Am Legend          5.0   \n",
       "\n",
       "                                          reviewText               authors  \\\n",
       "0  That movie has been the best interpretation of...  ['Richard Matheson']   \n",
       "1  This started as an interesting lone-survivor/e...  ['Richard Matheson']   \n",
       "2  I bought this a few months ago, before the mov...  ['Richard Matheson']   \n",
       "3  This book is very well written. The lead story...  ['Richard Matheson']   \n",
       "4  Despite many new caricatures currently being d...  ['Richard Matheson']   \n",
       "\n",
       "         categories  ratingsCount  \n",
       "0  ['Horror tales']         200.0  \n",
       "1  ['Horror tales']         200.0  \n",
       "2  ['Horror tales']         200.0  \n",
       "3  ['Horror tales']         200.0  \n",
       "4  ['Horror tales']         200.0  "
      ]
     },
     "execution_count": 48,
     "metadata": {},
     "output_type": "execute_result"
    }
   ],
   "source": [
    "amazon_books.head()"
   ]
  },
  {
   "cell_type": "code",
   "execution_count": 49,
   "metadata": {},
   "outputs": [
    {
     "data": {
      "text/plain": [
       "(7839, 6)"
      ]
     },
     "execution_count": 49,
     "metadata": {},
     "output_type": "execute_result"
    }
   ],
   "source": [
    "amazon_books.shape"
   ]
  },
  {
   "cell_type": "markdown",
   "metadata": {
    "id": "F42urHuzttjF"
   },
   "source": [
    "## 4. Update your data store\n",
    "Update your local database/data store with the cleaned data, following best practices for storing your cleaned data:\n",
    "\n",
    "- Must maintain different instances / versions of data (raw and cleaned data)\n",
    "- Must name the dataset files informatively\n",
    "- Ensure both the raw and cleaned data is saved to your database/data store"
   ]
  },
  {
   "cell_type": "code",
   "execution_count": 50,
   "metadata": {
    "id": "V3uay7EJUV_L"
   },
   "outputs": [],
   "source": [
    "#saving data\n",
    "\n",
    "# Assuming Book_rating, book_data, Amason_books are your cleaned DataFrames\n",
    "# Save raw data\n",
    "Book_rating.to_csv('Book_rating_raw.csv', index=False)\n",
    "book_data.to_csv('book_data_raw.csv', index=False)\n",
    "amazon_books.to_csv('Amason_books_raw.csv', index=False)\n",
    "\n",
    "# Save cleaned data with versioning or timestamp\n",
    "rate_copy.to_csv('Book_rating_cleaned.csv', index=False)\n",
    "book_copy.to_csv('book_data_cleaned.csv', index=False)\n"
   ]
  },
  {
   "cell_type": "markdown",
   "metadata": {
    "id": "cGy_yddGtzhM"
   },
   "source": [
    "## 5. Answer the research question\n",
    "\n",
    "### **5.1:** Define and answer the research question \n",
    "Going back to the problem statement in step 1, use the cleaned data to answer the question you raised. Produce **at least** two visualizations using the cleaned data and explain how they help you answer the question."
   ]
  },
  {
   "cell_type": "code",
   "execution_count": 54,
   "metadata": {},
   "outputs": [],
   "source": [
    "import matplotlib.pyplot as plt"
   ]
  },
  {
   "cell_type": "markdown",
   "metadata": {
    "id": "gjedE4s4ZkEd"
   },
   "source": [
    "### Research question 1: In which Genres readers give Positive and Negative Ratings?"
   ]
  },
  {
   "cell_type": "code",
   "execution_count": 55,
   "metadata": {},
   "outputs": [
    {
     "data": {
      "image/png": "[encoded data removed]",
      "text/plain": [
       "<Figure size 1500x700 with 1 Axes>"
      ]
     },
     "metadata": {},
     "output_type": "display_data"
    }
   ],
   "source": [
    "# Calculate average ratings by categories\n",
    "# Group by 'categories' and calculate the mean of 'reviewScore'\n",
    "avg_cat_rating = amazon_books.groupby('categories')['reviewScore'].mean().reset_index().sort_values(ascending=False, by='reviewScore').head(10)\n",
    "avg_cat_rating_d =amazon_books.groupby('categories')['reviewScore'].mean().reset_index().sort_values(ascending=False, by='reviewScore').tail(10)\n",
    "\n",
    "# Plotting the bar charts for top 10 and bottom 10 categories\n",
    "plt.figure(figsize=(15, 7))\n",
    "\n",
    "# Top 10 categories\n",
    "plt.bar(avg_cat_rating['categories'], avg_cat_rating['reviewScore'], color='skyblue', label='Top 10 Categories')\n",
    "\n",
    "# Bottom 10 categories\n",
    "plt.bar(avg_cat_rating_d['categories'], avg_cat_rating_d['reviewScore'], color='salmon', label='Bottom 10 Categories')\n",
    "\n",
    "# Adding titles and labels\n",
    "plt.title('Average Ratings on Book Genres', fontsize=15)\n",
    "plt.xlabel('Categories', fontsize=12)\n",
    "plt.ylabel('Average Rating', fontsize=12)\n",
    "plt.xticks(rotation='vertical')\n",
    "plt.legend()\n",
    "\n",
    "# Show the plot\n",
    "plt.show()\n"
   ]
  },
  {
   "cell_type": "markdown",
   "metadata": {},
   "source": [
    "*Answer to research question: the bar plot above show the names of 10 books top rating and 10 books less rating "
   ]
  },
  {
   "cell_type": "markdown",
   "metadata": {},
   "source": [
    "### Research question 2: Top 10 Authors with 5 star Ratings \n"
   ]
  },
  {
   "cell_type": "code",
   "execution_count": 56,
   "metadata": {},
   "outputs": [
    {
     "data": {
      "image/png": "[encoded data removed]",
      "text/plain": [
       "<Figure size 1200x800 with 1 Axes>"
      ]
     },
     "metadata": {},
     "output_type": "display_data"
    }
   ],
   "source": [
    "# Filter reviews with 5-star ratings\n",
    "five_star_reviews = amazon_books[amazon_books['reviewScore'] == 5]\n",
    "\n",
    "# Count the number of 5-star ratings per author\n",
    "top_authors = five_star_reviews['authors'].value_counts().head(10)\n",
    "\n",
    "# Plot the top 10 authors\n",
    "plt.figure(figsize=(12, 8))\n",
    "top_authors.plot(kind='bar', color='skyblue')\n",
    "plt.xlabel('Authors')\n",
    "plt.ylabel('Number of 5-star Ratings')\n",
    "plt.title('Top 10 Authors with 5-star Ratings')\n",
    "plt.xticks(rotation=45)\n",
    "plt.show()\n"
   ]
  },
  {
   "cell_type": "markdown",
   "metadata": {
    "id": "K5RgvMGUZoHn"
   },
   "source": [
    "*Answer to research question: The bar chart above display the top 10 authors with the most 5-star ratings, indicating which authors are highly favored by readers."
   ]
  },
  {
   "cell_type": "markdown",
   "metadata": {
    "id": "0ezWXXZVj-TP"
   },
   "source": [
    "### **5.2:** Reflection\n",
    "If I had more time to complete the project, I would:\n",
    "\n",
    "* 1- Further clean and preprocess the review text data by removing stopwords, stemming, and lemmatization to improve the accuracy of the word cloud.\n",
    "* 2-Explore additional research questions, such as the impact of book price on ratings or the correlation between the number of ratings and average rating."
   ]
  },
  {
   "cell_type": "code",
   "execution_count": null,
   "metadata": {},
   "outputs": [],
   "source": []
  }
 ],
 "metadata": {
  "colab": {
   "provenance": []
  },
  "kernelspec": {
   "display_name": "Python 3 (ipykernel)",
   "language": "python",
   "name": "python3"
  },
  "language_info": {
   "codemirror_mode": {
    "name": "ipython",
    "version": 3
   },
   "file_extension": ".py",
   "mimetype": "text/x-python",
   "name": "python",
   "nbconvert_exporter": "python",
   "pygments_lexer": "ipython3",
   "version": "3.11.5"
  }
 },
 "nbformat": 4,
 "nbformat_minor": 1
}
